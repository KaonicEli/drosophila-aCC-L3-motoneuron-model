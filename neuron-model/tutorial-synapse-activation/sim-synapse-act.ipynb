{
 "cells": [
  {
   "cell_type": "markdown",
   "id": "afbb9194",
   "metadata": {},
   "source": [
    "# Simulate synapses onto aCC"
   ]
  },
  {
   "cell_type": "code",
   "execution_count": null,
   "id": "e376b7dd",
   "metadata": {},
   "outputs": [],
   "source": [
    "%matplotlib notebook\n",
    "\n",
    "import csv\n",
    "from neuron import h, gui\n",
    "from neuron.units import ms, mV\n",
    "from matplotlib import pyplot"
   ]
  },
  {
   "cell_type": "markdown",
   "id": "9887ac85",
   "metadata": {},
   "source": [
    "## Load morphology and other components"
   ]
  },
  {
   "cell_type": "code",
   "execution_count": null,
   "id": "ad755721",
   "metadata": {},
   "outputs": [],
   "source": [
    "# load channels\n",
    "h('''{load_file(\"../chan-DmNaT-ODowd.hoc\")\n",
    "      load_file(\"../chan-DmNaP-DmNav10.hoc\")\n",
    "      load_file(\"../chan-DmKdr-Marley.hoc\")\n",
    "      load_file(\"../chan-DmKA-Marley.hoc\")\n",
    "     }''')\n",
    "\n",
    "# load morphology\n",
    "h('{load_file(\"../neuron-morph-ext-axon-2pieces-chans-ext-axon-70um.hoc\")}')\n",
    "\n",
    "# enable or disable voltage clamp\n",
    "h('load_file(\"../vclamp_soma_-60mV.ses\")')"
   ]
  },
  {
   "cell_type": "markdown",
   "id": "23d8769c",
   "metadata": {},
   "source": [
    "## Initialization"
   ]
  },
  {
   "cell_type": "code",
   "execution_count": 10,
   "id": "9e39cac2",
   "metadata": {},
   "outputs": [
    {
     "name": "stdout",
     "output_type": "stream",
     "text": [
      "\t1 \n",
      "\t1 \n",
      "Warning: state file does not exist.\n"
     ]
    }
   ],
   "source": [
    "# load common funcs\n",
    "h('load_file(\"../fitfuncs.hoc\")')\n",
    "\n",
    "#h('print_elec_cell()') #fix this \n",
    "\n",
    "# calc morph stats\n",
    "h('load_file(\"../stats.hoc\")')\n",
    "\n",
    "file_name = \"ext-axon-70um-sim-synapses\"\n",
    "\n",
    "# save state in this file\n",
    "h.state_file_name = \"state-neuron-act+elec+ext-axon-2piece-chans-\" + file_name + \".bin\"\n",
    "\n",
    "# load state first because it overrides parameters\n",
    "state_w_syn = \"state-neuron-act+elec+ext-axon-2piece-chans-\" + file_name + \"-synapse-saved.bin\"\n",
    "h.restoreStateFromFile(state_w_syn)\n",
    "\n",
    "# small adjustments\n",
    "\n",
    "# increase VC duration\n",
    "h.VClamp[0].dur[0] = 1000"
   ]
  },
  {
   "cell_type": "code",
   "execution_count": null,
   "id": "be8b6894",
   "metadata": {},
   "outputs": [],
   "source": [
    "# Dictionary for netcon objects indexed by section number that hold the synapse and netstim objects\n",
    "syns = {}\n",
    "\n",
    "class Synapse():\n",
    "    \n",
    "    def __init__(self, name, sec, syn, ns, nc):\n",
    "        self.name = name\n",
    "        self.sec = sec\n",
    "        self.syn = syn\n",
    "        self.ns = ns\n",
    "        self.nc = nc\n",
    "        \n",
    "    def set_stim(self, ps, weight = .00018, tau = 5, interval = 10, magepsc = 20, syne = 0, number = 1, start = 10):\n",
    "        \"\"\"Set parameters of specified synapse\"\"\"\n",
    "        nc = self.nc\n",
    "        syn = self.syn\n",
    "        ns = self.ns\n",
    "        print(f\"Setting: weight={weight}, tau={tau}, interval={interval}, magepsc={magepsc}, syne={syne}, number={number}, start={start}\")\n",
    "        syn.tau = tau\n",
    "        syn.e = syne\n",
    "        ns.interval = interval\n",
    "        ns.number = number\n",
    "        ns.start = start\n",
    "        ns.noise = 0\n",
    "        nc.weight[0] = weight * magepsc\n",
    "        ps.color(2, self.sec(0.5))\n",
    "\n",
    "def create_one_syn(sec):\n",
    "    \"\"\"Factory method to create synapse, NetStim, and NetCon objects\"\"\"\n",
    "    print(f\"Creating synapse on {sec}\\n\")\n",
    "    syn = h.ExpSyn(sec(0.5))\n",
    "    ns = h.NetStim(sec(0.5))\n",
    "    nc = h.NetCon(ns, syn)\n",
    "    syn_obj = Synapse(str(sec), sec, syn, ns, nc)\n",
    "    syns[str(sec)] = syn_obj\n",
    "    return syn_obj\n",
    "\n",
    "'''\n",
    " * synapses:\n",
    " * top dend: 685, 524, 520, 626\n",
    " * bot dend: 205, 357, 464, 588, 513, 48\n",
    "'''\n",
    "\n",
    "#create_syn_dendrite_section(685, 524, 520, 626, 205, 357, 464, 588, 513, 48)\n",
    "#set_syn_pars()                  # use defaults"
   ]
  },
  {
   "cell_type": "markdown",
   "id": "24df88f2",
   "metadata": {},
   "source": [
    "# Experiments"
   ]
  },
  {
   "cell_type": "markdown",
   "id": "519c24e6",
   "metadata": {},
   "source": [
    "## create shape plot"
   ]
  },
  {
   "cell_type": "code",
   "execution_count": null,
   "id": "327164a5",
   "metadata": {},
   "outputs": [],
   "source": [
    "ps = h.PlotShape(0) # don't show a default view\n",
    "ps.show(0)         # show diameters\n",
    "ps.view(30,10,55,87, 300, 100, 500, 700)\n",
    "h.load_file('stdrun.hoc')"
   ]
  },
  {
   "cell_type": "markdown",
   "id": "48793131",
   "metadata": {},
   "source": [
    "## stimulate one synapse with varying magnitudes"
   ]
  },
  {
   "cell_type": "code",
   "execution_count": null,
   "id": "26427dba",
   "metadata": {},
   "outputs": [],
   "source": [
    "syn = create_one_syn(h.dendrite[685])"
   ]
  },
  {
   "cell_type": "code",
   "execution_count": null,
   "id": "04931895",
   "metadata": {},
   "outputs": [],
   "source": [
    "syn.set_stim(ps = ps, weight = .0018, tau=5, interval = 0, number = 1)\n",
    "h.finitialize(-65 * mV)\n",
    "#h.continuerun(60 * ms)\n",
    "h.tstop = 60 * ms\n",
    "h.run()"
   ]
  },
  {
   "cell_type": "code",
   "execution_count": null,
   "id": "af84e90b",
   "metadata": {
    "scrolled": false
   },
   "outputs": [],
   "source": [
    "syn2 = create_one_syn(h.dendrite[48])"
   ]
  },
  {
   "cell_type": "code",
   "execution_count": null,
   "id": "58d33854",
   "metadata": {},
   "outputs": [],
   "source": [
    "#syn.set_stim(ps = ps, weight = 0, tau=5, interval = 0, number = 1)\n",
    "syn2.set_stim(ps = ps, weight = .0018, tau=5, interval = 0, number = 1)\n",
    "h.finitialize(-65 * mV)\n",
    "h.continuerun(60 * ms)\n",
    "#h.tstop = 60 * ms\n",
    "#h.run()"
   ]
  },
  {
   "cell_type": "markdown",
   "id": "01f892ca",
   "metadata": {},
   "source": [
    "## Save state"
   ]
  },
  {
   "cell_type": "code",
   "execution_count": 11,
   "id": "f751ec0b",
   "metadata": {},
   "outputs": [
    {
     "name": "stdout",
     "output_type": "stream",
     "text": [
      "state-neuron-act+elec+ext-axon-2piece-chans-ext-axon-70um-sim-synapses.bin\n"
     ]
    },
    {
     "data": {
      "text/plain": [
       "0.0"
      ]
     },
     "execution_count": 11,
     "metadata": {},
     "output_type": "execute_result"
    }
   ],
   "source": [
    "print(state_file_name)\n",
    "h.finitialize()\n",
    "h.saveState()"
   ]
  },
  {
   "cell_type": "code",
   "execution_count": 8,
   "id": "c9980fe4",
   "metadata": {},
   "outputs": [
    {
     "data": {
      "text/plain": [
       "1.0"
      ]
     },
     "execution_count": 8,
     "metadata": {},
     "output_type": "execute_result"
    }
   ],
   "source": [
    "h.steady_state.save()\n",
    "h('state_fobj = new File(\"state-neuron-act+elec+ext-axon-2piece-chans-ext-axon-70um-sim-synapses.bin\")')\n",
    "h.steady_state.fwrite(h.state_fobj)"
   ]
  },
  {
   "cell_type": "code",
   "execution_count": null,
   "id": "4680440a",
   "metadata": {},
   "outputs": [],
   "source": []
  }
 ],
 "metadata": {
  "kernelspec": {
   "display_name": "Python 3 (ipykernel)",
   "language": "python",
   "name": "python3"
  },
  "language_info": {
   "codemirror_mode": {
    "name": "ipython",
    "version": 3
   },
   "file_extension": ".py",
   "mimetype": "text/x-python",
   "name": "python",
   "nbconvert_exporter": "python",
   "pygments_lexer": "ipython3",
   "version": "3.9.7"
  }
 },
 "nbformat": 4,
 "nbformat_minor": 5
}
