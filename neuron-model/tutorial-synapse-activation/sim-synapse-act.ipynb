{
 "cells": [
  {
   "cell_type": "markdown",
   "id": "afbb9194",
   "metadata": {},
   "source": [
    "# Simulate synapses onto aCC"
   ]
  },
  {
   "cell_type": "code",
   "execution_count": 1,
   "id": "e376b7dd",
   "metadata": {},
   "outputs": [
    {
     "name": "stderr",
     "output_type": "stream",
     "text": [
      "NEURON: unable to open font \"*helvetica-medium-r-normal*--14*\", using \"fixed\"\n"
     ]
    }
   ],
   "source": [
    "%matplotlib notebook\n",
    "\n",
    "import csv\n",
    "from neuron import h, gui\n",
    "from neuron.units import ms, mV\n",
    "from matplotlib import pyplot"
   ]
  },
  {
   "cell_type": "markdown",
   "id": "dafd1a09",
   "metadata": {},
   "source": [
    "## Import Bokeh for graphs"
   ]
  },
  {
   "cell_type": "code",
   "execution_count": 28,
   "id": "b3fabc8b",
   "metadata": {},
   "outputs": [
    {
     "data": {
      "text/html": [
       "<style>\n",
       "        .bk-notebook-logo {\n",
       "            display: block;\n",
       "            width: 20px;\n",
       "            height: 20px;\n",
       "            background-image: url(data:image/png;base64,iVBORw0KGgoAAAANSUhEUgAAABQAAAAUCAYAAACNiR0NAAAABHNCSVQICAgIfAhkiAAAAAlwSFlzAAALEgAACxIB0t1+/AAAABx0RVh0U29mdHdhcmUAQWRvYmUgRmlyZXdvcmtzIENTNui8sowAAAOkSURBVDiNjZRtaJVlGMd/1/08zzln5zjP1LWcU9N0NkN8m2CYjpgQYQXqSs0I84OLIC0hkEKoPtiH3gmKoiJDU7QpLgoLjLIQCpEsNJ1vqUOdO7ppbuec5+V+rj4ctwzd8IIbbi6u+8f1539dt3A78eXC7QizUF7gyV1fD1Yqg4JWz84yffhm0qkFqBogB9rM8tZdtwVsPUhWhGcFJngGeWrPzHm5oaMmkfEg1usvLFyc8jLRqDOMru7AyC8saQr7GG7f5fvDeH7Ej8CM66nIF+8yngt6HWaKh7k49Soy9nXurCi1o3qUbS3zWfrYeQDTB/Qj6kX6Ybhw4B+bOYoLKCC9H3Nu/leUTZ1JdRWkkn2ldcCamzrcf47KKXdAJllSlxAOkRgyHsGC/zRday5Qld9DyoM4/q/rUoy/CXh3jzOu3bHUVZeU+DEn8FInkPBFlu3+nW3Nw0mk6vCDiWg8CeJaxEwuHS3+z5RgY+YBR6V1Z1nxSOfoaPa4LASWxxdNp+VWTk7+4vzaou8v8PN+xo+KY2xsw6une2frhw05CTYOmQvsEhjhWjn0bmXPjpE1+kplmmkP3suftwTubK9Vq22qKmrBhpY4jvd5afdRA3wGjFAgcnTK2s4hY0/GPNIb0nErGMCRxWOOX64Z8RAC4oCXdklmEvcL8o0BfkNK4lUg9HTl+oPlQxdNo3Mg4Nv175e/1LDGzZen30MEjRUtmXSfiTVu1kK8W4txyV6BMKlbgk3lMwYCiusNy9fVfvvwMxv8Ynl6vxoByANLTWplvuj/nF9m2+PDtt1eiHPBr1oIfhCChQMBw6Aw0UulqTKZdfVvfG7VcfIqLG9bcldL/+pdWTLxLUy8Qq38heUIjh4XlzZxzQm19lLFlr8vdQ97rjZVOLf8nclzckbcD4wxXMidpX30sFd37Fv/GtwwhzhxGVAprjbg0gCAEeIgwCZyTV2Z1REEW8O4py0wsjeloKoMr6iCY6dP92H6Vw/oTyICIthibxjm/DfN9lVz8IqtqKYLUXfoKVMVQVVJOElGjrnnUt9T9wbgp8AyYKaGlqingHZU/uG2NTZSVqwHQTWkx9hxjkpWDaCg6Ckj5qebgBVbT3V3NNXMSiWSDdGV3hrtzla7J+duwPOToIg42ChPQOQjspnSlp1V+Gjdged7+8UN5CRAV7a5EdFNwCjEaBR27b3W890TE7g24NAP/mMDXRWrGoFPQI9ls/MWO2dWFAar/xcOIImbbpA3zgAAAABJRU5ErkJggg==);\n",
       "        }\n",
       "    </style>\n",
       "    <div>\n",
       "        <a href=\"https://bokeh.org\" target=\"_blank\" class=\"bk-notebook-logo\"></a>\n",
       "        <span id=\"p2140\">Loading BokehJS ...</span>\n",
       "    </div>\n"
      ]
     },
     "metadata": {},
     "output_type": "display_data"
    },
    {
     "data": {
      "application/javascript": [
       "(function(root) {\n",
       "  function now() {\n",
       "    return new Date();\n",
       "  }\n",
       "\n",
       "  const force = true;\n",
       "\n",
       "  if (typeof root._bokeh_onload_callbacks === \"undefined\" || force === true) {\n",
       "    root._bokeh_onload_callbacks = [];\n",
       "    root._bokeh_is_loading = undefined;\n",
       "  }\n",
       "\n",
       "const JS_MIME_TYPE = 'application/javascript';\n",
       "  const HTML_MIME_TYPE = 'text/html';\n",
       "  const EXEC_MIME_TYPE = 'application/vnd.bokehjs_exec.v0+json';\n",
       "  const CLASS_NAME = 'output_bokeh rendered_html';\n",
       "\n",
       "  /**\n",
       "   * Render data to the DOM node\n",
       "   */\n",
       "  function render(props, node) {\n",
       "    const script = document.createElement(\"script\");\n",
       "    node.appendChild(script);\n",
       "  }\n",
       "\n",
       "  /**\n",
       "   * Handle when an output is cleared or removed\n",
       "   */\n",
       "  function handleClearOutput(event, handle) {\n",
       "    const cell = handle.cell;\n",
       "\n",
       "    const id = cell.output_area._bokeh_element_id;\n",
       "    const server_id = cell.output_area._bokeh_server_id;\n",
       "    // Clean up Bokeh references\n",
       "    if (id != null && id in Bokeh.index) {\n",
       "      Bokeh.index[id].model.document.clear();\n",
       "      delete Bokeh.index[id];\n",
       "    }\n",
       "\n",
       "    if (server_id !== undefined) {\n",
       "      // Clean up Bokeh references\n",
       "      const cmd_clean = \"from bokeh.io.state import curstate; print(curstate().uuid_to_server['\" + server_id + \"'].get_sessions()[0].document.roots[0]._id)\";\n",
       "      cell.notebook.kernel.execute(cmd_clean, {\n",
       "        iopub: {\n",
       "          output: function(msg) {\n",
       "            const id = msg.content.text.trim();\n",
       "            if (id in Bokeh.index) {\n",
       "              Bokeh.index[id].model.document.clear();\n",
       "              delete Bokeh.index[id];\n",
       "            }\n",
       "          }\n",
       "        }\n",
       "      });\n",
       "      // Destroy server and session\n",
       "      const cmd_destroy = \"import bokeh.io.notebook as ion; ion.destroy_server('\" + server_id + \"')\";\n",
       "      cell.notebook.kernel.execute(cmd_destroy);\n",
       "    }\n",
       "  }\n",
       "\n",
       "  /**\n",
       "   * Handle when a new output is added\n",
       "   */\n",
       "  function handleAddOutput(event, handle) {\n",
       "    const output_area = handle.output_area;\n",
       "    const output = handle.output;\n",
       "\n",
       "    // limit handleAddOutput to display_data with EXEC_MIME_TYPE content only\n",
       "    if ((output.output_type != \"display_data\") || (!Object.prototype.hasOwnProperty.call(output.data, EXEC_MIME_TYPE))) {\n",
       "      return\n",
       "    }\n",
       "\n",
       "    const toinsert = output_area.element.find(\".\" + CLASS_NAME.split(' ')[0]);\n",
       "\n",
       "    if (output.metadata[EXEC_MIME_TYPE][\"id\"] !== undefined) {\n",
       "      toinsert[toinsert.length - 1].firstChild.textContent = output.data[JS_MIME_TYPE];\n",
       "      // store reference to embed id on output_area\n",
       "      output_area._bokeh_element_id = output.metadata[EXEC_MIME_TYPE][\"id\"];\n",
       "    }\n",
       "    if (output.metadata[EXEC_MIME_TYPE][\"server_id\"] !== undefined) {\n",
       "      const bk_div = document.createElement(\"div\");\n",
       "      bk_div.innerHTML = output.data[HTML_MIME_TYPE];\n",
       "      const script_attrs = bk_div.children[0].attributes;\n",
       "      for (let i = 0; i < script_attrs.length; i++) {\n",
       "        toinsert[toinsert.length - 1].firstChild.setAttribute(script_attrs[i].name, script_attrs[i].value);\n",
       "        toinsert[toinsert.length - 1].firstChild.textContent = bk_div.children[0].textContent\n",
       "      }\n",
       "      // store reference to server id on output_area\n",
       "      output_area._bokeh_server_id = output.metadata[EXEC_MIME_TYPE][\"server_id\"];\n",
       "    }\n",
       "  }\n",
       "\n",
       "  function register_renderer(events, OutputArea) {\n",
       "\n",
       "    function append_mime(data, metadata, element) {\n",
       "      // create a DOM node to render to\n",
       "      const toinsert = this.create_output_subarea(\n",
       "        metadata,\n",
       "        CLASS_NAME,\n",
       "        EXEC_MIME_TYPE\n",
       "      );\n",
       "      this.keyboard_manager.register_events(toinsert);\n",
       "      // Render to node\n",
       "      const props = {data: data, metadata: metadata[EXEC_MIME_TYPE]};\n",
       "      render(props, toinsert[toinsert.length - 1]);\n",
       "      element.append(toinsert);\n",
       "      return toinsert\n",
       "    }\n",
       "\n",
       "    /* Handle when an output is cleared or removed */\n",
       "    events.on('clear_output.CodeCell', handleClearOutput);\n",
       "    events.on('delete.Cell', handleClearOutput);\n",
       "\n",
       "    /* Handle when a new output is added */\n",
       "    events.on('output_added.OutputArea', handleAddOutput);\n",
       "\n",
       "    /**\n",
       "     * Register the mime type and append_mime function with output_area\n",
       "     */\n",
       "    OutputArea.prototype.register_mime_type(EXEC_MIME_TYPE, append_mime, {\n",
       "      /* Is output safe? */\n",
       "      safe: true,\n",
       "      /* Index of renderer in `output_area.display_order` */\n",
       "      index: 0\n",
       "    });\n",
       "  }\n",
       "\n",
       "  // register the mime type if in Jupyter Notebook environment and previously unregistered\n",
       "  if (root.Jupyter !== undefined) {\n",
       "    const events = require('base/js/events');\n",
       "    const OutputArea = require('notebook/js/outputarea').OutputArea;\n",
       "\n",
       "    if (OutputArea.prototype.mime_types().indexOf(EXEC_MIME_TYPE) == -1) {\n",
       "      register_renderer(events, OutputArea);\n",
       "    }\n",
       "  }\n",
       "  if (typeof (root._bokeh_timeout) === \"undefined\" || force === true) {\n",
       "    root._bokeh_timeout = Date.now() + 5000;\n",
       "    root._bokeh_failed_load = false;\n",
       "  }\n",
       "\n",
       "  const NB_LOAD_WARNING = {'data': {'text/html':\n",
       "     \"<div style='background-color: #fdd'>\\n\"+\n",
       "     \"<p>\\n\"+\n",
       "     \"BokehJS does not appear to have successfully loaded. If loading BokehJS from CDN, this \\n\"+\n",
       "     \"may be due to a slow or bad network connection. Possible fixes:\\n\"+\n",
       "     \"</p>\\n\"+\n",
       "     \"<ul>\\n\"+\n",
       "     \"<li>re-rerun `output_notebook()` to attempt to load from CDN again, or</li>\\n\"+\n",
       "     \"<li>use INLINE resources instead, as so:</li>\\n\"+\n",
       "     \"</ul>\\n\"+\n",
       "     \"<code>\\n\"+\n",
       "     \"from bokeh.resources import INLINE\\n\"+\n",
       "     \"output_notebook(resources=INLINE)\\n\"+\n",
       "     \"</code>\\n\"+\n",
       "     \"</div>\"}};\n",
       "\n",
       "  function display_loaded() {\n",
       "    const el = document.getElementById(\"p2140\");\n",
       "    if (el != null) {\n",
       "      el.textContent = \"BokehJS is loading...\";\n",
       "    }\n",
       "    if (root.Bokeh !== undefined) {\n",
       "      if (el != null) {\n",
       "        el.textContent = \"BokehJS \" + root.Bokeh.version + \" successfully loaded.\";\n",
       "      }\n",
       "    } else if (Date.now() < root._bokeh_timeout) {\n",
       "      setTimeout(display_loaded, 100)\n",
       "    }\n",
       "  }\n",
       "\n",
       "  function run_callbacks() {\n",
       "    try {\n",
       "      root._bokeh_onload_callbacks.forEach(function(callback) {\n",
       "        if (callback != null)\n",
       "          callback();\n",
       "      });\n",
       "    } finally {\n",
       "      delete root._bokeh_onload_callbacks\n",
       "    }\n",
       "    console.debug(\"Bokeh: all callbacks have finished\");\n",
       "  }\n",
       "\n",
       "  function load_libs(css_urls, js_urls, callback) {\n",
       "    if (css_urls == null) css_urls = [];\n",
       "    if (js_urls == null) js_urls = [];\n",
       "\n",
       "    root._bokeh_onload_callbacks.push(callback);\n",
       "    if (root._bokeh_is_loading > 0) {\n",
       "      console.debug(\"Bokeh: BokehJS is being loaded, scheduling callback at\", now());\n",
       "      return null;\n",
       "    }\n",
       "    if (js_urls == null || js_urls.length === 0) {\n",
       "      run_callbacks();\n",
       "      return null;\n",
       "    }\n",
       "    console.debug(\"Bokeh: BokehJS not loaded, scheduling load and callback at\", now());\n",
       "    root._bokeh_is_loading = css_urls.length + js_urls.length;\n",
       "\n",
       "    function on_load() {\n",
       "      root._bokeh_is_loading--;\n",
       "      if (root._bokeh_is_loading === 0) {\n",
       "        console.debug(\"Bokeh: all BokehJS libraries/stylesheets loaded\");\n",
       "        run_callbacks()\n",
       "      }\n",
       "    }\n",
       "\n",
       "    function on_error(url) {\n",
       "      console.error(\"failed to load \" + url);\n",
       "    }\n",
       "\n",
       "    for (let i = 0; i < css_urls.length; i++) {\n",
       "      const url = css_urls[i];\n",
       "      const element = document.createElement(\"link\");\n",
       "      element.onload = on_load;\n",
       "      element.onerror = on_error.bind(null, url);\n",
       "      element.rel = \"stylesheet\";\n",
       "      element.type = \"text/css\";\n",
       "      element.href = url;\n",
       "      console.debug(\"Bokeh: injecting link tag for BokehJS stylesheet: \", url);\n",
       "      document.body.appendChild(element);\n",
       "    }\n",
       "\n",
       "    for (let i = 0; i < js_urls.length; i++) {\n",
       "      const url = js_urls[i];\n",
       "      const element = document.createElement('script');\n",
       "      element.onload = on_load;\n",
       "      element.onerror = on_error.bind(null, url);\n",
       "      element.async = false;\n",
       "      element.src = url;\n",
       "      console.debug(\"Bokeh: injecting script tag for BokehJS library: \", url);\n",
       "      document.head.appendChild(element);\n",
       "    }\n",
       "  };\n",
       "\n",
       "  function inject_raw_css(css) {\n",
       "    const element = document.createElement(\"style\");\n",
       "    element.appendChild(document.createTextNode(css));\n",
       "    document.body.appendChild(element);\n",
       "  }\n",
       "\n",
       "  const js_urls = [\"https://cdn.bokeh.org/bokeh/release/bokeh-3.0.1.min.js\", \"https://cdn.bokeh.org/bokeh/release/bokeh-gl-3.0.1.min.js\", \"https://cdn.bokeh.org/bokeh/release/bokeh-widgets-3.0.1.min.js\", \"https://cdn.bokeh.org/bokeh/release/bokeh-tables-3.0.1.min.js\", \"https://cdn.bokeh.org/bokeh/release/bokeh-mathjax-3.0.1.min.js\"];\n",
       "  const css_urls = [];\n",
       "\n",
       "  const inline_js = [    function(Bokeh) {\n",
       "      Bokeh.set_log_level(\"info\");\n",
       "    },\n",
       "function(Bokeh) {\n",
       "    }\n",
       "  ];\n",
       "\n",
       "  function run_inline_js() {\n",
       "    if (root.Bokeh !== undefined || force === true) {\n",
       "          for (let i = 0; i < inline_js.length; i++) {\n",
       "      inline_js[i].call(root, root.Bokeh);\n",
       "    }\n",
       "if (force === true) {\n",
       "        display_loaded();\n",
       "      }} else if (Date.now() < root._bokeh_timeout) {\n",
       "      setTimeout(run_inline_js, 100);\n",
       "    } else if (!root._bokeh_failed_load) {\n",
       "      console.log(\"Bokeh: BokehJS failed to load within specified timeout.\");\n",
       "      root._bokeh_failed_load = true;\n",
       "    } else if (force !== true) {\n",
       "      const cell = $(document.getElementById(\"p2140\")).parents('.cell').data().cell;\n",
       "      cell.output_area.append_execute_result(NB_LOAD_WARNING)\n",
       "    }\n",
       "  }\n",
       "\n",
       "  if (root._bokeh_is_loading === 0) {\n",
       "    console.debug(\"Bokeh: BokehJS loaded, going straight to plotting\");\n",
       "    run_inline_js();\n",
       "  } else {\n",
       "    load_libs(css_urls, js_urls, function() {\n",
       "      console.debug(\"Bokeh: BokehJS plotting callback run at\", now());\n",
       "      run_inline_js();\n",
       "    });\n",
       "  }\n",
       "}(window));"
      ],
      "application/vnd.bokehjs_load.v0+json": "(function(root) {\n  function now() {\n    return new Date();\n  }\n\n  const force = true;\n\n  if (typeof root._bokeh_onload_callbacks === \"undefined\" || force === true) {\n    root._bokeh_onload_callbacks = [];\n    root._bokeh_is_loading = undefined;\n  }\n\n\n  if (typeof (root._bokeh_timeout) === \"undefined\" || force === true) {\n    root._bokeh_timeout = Date.now() + 5000;\n    root._bokeh_failed_load = false;\n  }\n\n  const NB_LOAD_WARNING = {'data': {'text/html':\n     \"<div style='background-color: #fdd'>\\n\"+\n     \"<p>\\n\"+\n     \"BokehJS does not appear to have successfully loaded. If loading BokehJS from CDN, this \\n\"+\n     \"may be due to a slow or bad network connection. Possible fixes:\\n\"+\n     \"</p>\\n\"+\n     \"<ul>\\n\"+\n     \"<li>re-rerun `output_notebook()` to attempt to load from CDN again, or</li>\\n\"+\n     \"<li>use INLINE resources instead, as so:</li>\\n\"+\n     \"</ul>\\n\"+\n     \"<code>\\n\"+\n     \"from bokeh.resources import INLINE\\n\"+\n     \"output_notebook(resources=INLINE)\\n\"+\n     \"</code>\\n\"+\n     \"</div>\"}};\n\n  function display_loaded() {\n    const el = document.getElementById(\"p2140\");\n    if (el != null) {\n      el.textContent = \"BokehJS is loading...\";\n    }\n    if (root.Bokeh !== undefined) {\n      if (el != null) {\n        el.textContent = \"BokehJS \" + root.Bokeh.version + \" successfully loaded.\";\n      }\n    } else if (Date.now() < root._bokeh_timeout) {\n      setTimeout(display_loaded, 100)\n    }\n  }\n\n  function run_callbacks() {\n    try {\n      root._bokeh_onload_callbacks.forEach(function(callback) {\n        if (callback != null)\n          callback();\n      });\n    } finally {\n      delete root._bokeh_onload_callbacks\n    }\n    console.debug(\"Bokeh: all callbacks have finished\");\n  }\n\n  function load_libs(css_urls, js_urls, callback) {\n    if (css_urls == null) css_urls = [];\n    if (js_urls == null) js_urls = [];\n\n    root._bokeh_onload_callbacks.push(callback);\n    if (root._bokeh_is_loading > 0) {\n      console.debug(\"Bokeh: BokehJS is being loaded, scheduling callback at\", now());\n      return null;\n    }\n    if (js_urls == null || js_urls.length === 0) {\n      run_callbacks();\n      return null;\n    }\n    console.debug(\"Bokeh: BokehJS not loaded, scheduling load and callback at\", now());\n    root._bokeh_is_loading = css_urls.length + js_urls.length;\n\n    function on_load() {\n      root._bokeh_is_loading--;\n      if (root._bokeh_is_loading === 0) {\n        console.debug(\"Bokeh: all BokehJS libraries/stylesheets loaded\");\n        run_callbacks()\n      }\n    }\n\n    function on_error(url) {\n      console.error(\"failed to load \" + url);\n    }\n\n    for (let i = 0; i < css_urls.length; i++) {\n      const url = css_urls[i];\n      const element = document.createElement(\"link\");\n      element.onload = on_load;\n      element.onerror = on_error.bind(null, url);\n      element.rel = \"stylesheet\";\n      element.type = \"text/css\";\n      element.href = url;\n      console.debug(\"Bokeh: injecting link tag for BokehJS stylesheet: \", url);\n      document.body.appendChild(element);\n    }\n\n    for (let i = 0; i < js_urls.length; i++) {\n      const url = js_urls[i];\n      const element = document.createElement('script');\n      element.onload = on_load;\n      element.onerror = on_error.bind(null, url);\n      element.async = false;\n      element.src = url;\n      console.debug(\"Bokeh: injecting script tag for BokehJS library: \", url);\n      document.head.appendChild(element);\n    }\n  };\n\n  function inject_raw_css(css) {\n    const element = document.createElement(\"style\");\n    element.appendChild(document.createTextNode(css));\n    document.body.appendChild(element);\n  }\n\n  const js_urls = [\"https://cdn.bokeh.org/bokeh/release/bokeh-3.0.1.min.js\", \"https://cdn.bokeh.org/bokeh/release/bokeh-gl-3.0.1.min.js\", \"https://cdn.bokeh.org/bokeh/release/bokeh-widgets-3.0.1.min.js\", \"https://cdn.bokeh.org/bokeh/release/bokeh-tables-3.0.1.min.js\", \"https://cdn.bokeh.org/bokeh/release/bokeh-mathjax-3.0.1.min.js\"];\n  const css_urls = [];\n\n  const inline_js = [    function(Bokeh) {\n      Bokeh.set_log_level(\"info\");\n    },\nfunction(Bokeh) {\n    }\n  ];\n\n  function run_inline_js() {\n    if (root.Bokeh !== undefined || force === true) {\n          for (let i = 0; i < inline_js.length; i++) {\n      inline_js[i].call(root, root.Bokeh);\n    }\nif (force === true) {\n        display_loaded();\n      }} else if (Date.now() < root._bokeh_timeout) {\n      setTimeout(run_inline_js, 100);\n    } else if (!root._bokeh_failed_load) {\n      console.log(\"Bokeh: BokehJS failed to load within specified timeout.\");\n      root._bokeh_failed_load = true;\n    } else if (force !== true) {\n      const cell = $(document.getElementById(\"p2140\")).parents('.cell').data().cell;\n      cell.output_area.append_execute_result(NB_LOAD_WARNING)\n    }\n  }\n\n  if (root._bokeh_is_loading === 0) {\n    console.debug(\"Bokeh: BokehJS loaded, going straight to plotting\");\n    run_inline_js();\n  } else {\n    load_libs(css_urls, js_urls, function() {\n      console.debug(\"Bokeh: BokehJS plotting callback run at\", now());\n      run_inline_js();\n    });\n  }\n}(window));"
     },
     "metadata": {},
     "output_type": "display_data"
    }
   ],
   "source": [
    "from bokeh.io import output_notebook\n",
    "import bokeh.plotting as plt\n",
    "from bokeh.models.ranges import DataRange1d\n",
    "import numpy as np\n",
    "from bokeh.io import export_svg\n",
    "\n",
    "output_notebook()"
   ]
  },
  {
   "cell_type": "markdown",
   "id": "9887ac85",
   "metadata": {},
   "source": [
    "## Load morphology and other components"
   ]
  },
  {
   "cell_type": "code",
   "execution_count": 2,
   "id": "ad755721",
   "metadata": {},
   "outputs": [
    {
     "name": "stdout",
     "output_type": "stream",
     "text": [
      "\t0 \n",
      "\t0 \n",
      "\t0 \n",
      "\t0 \n",
      "\t0 \n",
      "\t1 \n"
     ]
    },
    {
     "data": {
      "text/plain": [
       "1"
      ]
     },
     "execution_count": 2,
     "metadata": {},
     "output_type": "execute_result"
    }
   ],
   "source": [
    "# load channels\n",
    "h('''{load_file(\"../chan-DmNaT-ODowd.hoc\")\n",
    "      load_file(\"../chan-DmNaP-DmNav10.hoc\")\n",
    "      load_file(\"../chan-DmKdr-Marley.hoc\")\n",
    "      load_file(\"../chan-DmKA-Marley.hoc\")\n",
    "     }''')\n",
    "\n",
    "# load morphology\n",
    "h('{load_file(\"../neuron-morph-ext-axon-2pieces-chans-ext-axon-70um.hoc\")}')\n",
    "\n",
    "# enable or disable voltage clamp\n",
    "h('load_file(\"../vclamp_soma_-60mV.ses\")')"
   ]
  },
  {
   "cell_type": "markdown",
   "id": "3f02f684",
   "metadata": {},
   "source": [
    "## Initialization"
   ]
  },
  {
   "cell_type": "code",
   "execution_count": 3,
   "id": "b6001bda",
   "metadata": {},
   "outputs": [
    {
     "name": "stdout",
     "output_type": "stream",
     "text": [
      "\t1 \n",
      "Secname\tL (um)\tDiam (um)\tArea [um^2]\tRi [MO]\t\tCm [pF]\tg_pas [nS]\n",
      "axon:\t37.61\t1.14\t134.11\t35.12\t1.34\t0.00\n",
      "soma:\t6.98\t5.50\t120.56\t0.28\t1.21\t0.00\n",
      "bottom dend:\t996.91\t0.78\t2430.62\t1991.49\t24.31\t0.02\n",
      "botdend - axon:\t959.10\t0.76\t2292.50\t1993.51\t22.92\t0.02\n",
      "topdend:\t366.00\t0.73\t837.85\t829.37\t8.38\t0.01\n",
      "ext. axon:\t570.00\t0.71\t1275.49\t1351.81\t12.75\t1.53\n",
      "\t1 \n",
      "Warning: state file does not exist.\n"
     ]
    }
   ],
   "source": [
    "# load common funcs\n",
    "h('load_file(\"../fitfuncs.hoc\")')\n",
    "\n",
    "#h('print_elec_cell()') #fix this \n",
    "\n",
    "# calc morph stats\n",
    "h('load_file(\"../stats.hoc\")')\n",
    "\n",
    "file_name = \"ext-axon-70um-sim-synapses\"\n",
    "\n",
    "# save state in this file\n",
    "h.state_file_name = \"state-neuron-act+elec+ext-axon-2piece-chans-\" + file_name + \".bin\"\n",
    "\n",
    "# load state first because it overrides parameters\n",
    "state_w_syn = \"state-neuron-act+elec+ext-axon-2piece-chans-\" + file_name + \"-synapse-saved.bin\"\n",
    "h.restoreStateFromFile(state_w_syn)\n",
    "\n",
    "# small adjustments\n",
    "\n",
    "# increase VC duration\n",
    "h.VClamp[0].dur[0] = 1000"
   ]
  },
  {
   "cell_type": "code",
   "execution_count": 4,
   "id": "edb18fab",
   "metadata": {},
   "outputs": [
    {
     "name": "stdout",
     "output_type": "stream",
     "text": [
      "Creating synapse on dendrite[685]\n",
      "Creating synapse on dendrite[524]\n",
      "Creating synapse on dendrite[520]\n",
      "Creating synapse on dendrite[626]\n",
      "Creating synapse on dendrite[205]\n",
      "Creating synapse on dendrite[357]\n",
      "Creating synapse on dendrite[464]\n",
      "Creating synapse on dendrite[588]\n",
      "Creating synapse on dendrite[513]\n",
      "Creating synapse on dendrite[48]\n"
     ]
    }
   ],
   "source": [
    "# Dictionary for netcon objects indexed by section number that hold the synapse and netstim objects\n",
    "syns = {}\n",
    "\n",
    "class Synapse():\n",
    "    \n",
    "    def __init__(self, name, sec, syn, ns, nc):\n",
    "        self.name = name\n",
    "        self.sec = sec\n",
    "        self.syn = syn\n",
    "        self.ns = ns\n",
    "        self.nc = nc\n",
    "        \n",
    "    def set_stim(self, ps, weight = .00018, tau = 5, interval = 10, magepsc = 20, syne = 0, number = 1, start = 10):\n",
    "        \"\"\"Set parameters of specified synapse\"\"\"\n",
    "        nc = self.nc\n",
    "        syn = self.syn\n",
    "        ns = self.ns\n",
    "        print(f\"Setting: weight={weight}, tau={tau}, interval={interval}, magepsc={magepsc}, syne={syne}, number={number}, start={start}\")\n",
    "        syn.tau = tau\n",
    "        syn.e = syne\n",
    "        ns.interval = interval\n",
    "        ns.number = number\n",
    "        ns.start = start\n",
    "        ns.noise = 0\n",
    "        nc.weight[0] = weight * magepsc\n",
    "        ps.color(2, self.sec(0.5))\n",
    "\n",
    "def create_syns(*secs):\n",
    "    \"\"\"Factory method to create synapse, NetStim, and NetCon objects\"\"\"\n",
    "    for sec in secs:\n",
    "        print(f\"Creating synapse on {sec}\")\n",
    "        syn = h.ExpSyn(sec(0.5))\n",
    "        ns = h.NetStim(sec(0.5))\n",
    "        nc = h.NetCon(ns, syn)\n",
    "        nc.delay = 0\n",
    "        syn_obj = Synapse(str(sec), sec, syn, ns, nc)\n",
    "        syns[str(sec)] = syn_obj\n",
    "\n",
    "'''\n",
    " * synapses:\n",
    " * top dend: 685, 524, 520, 626\n",
    " * bot dend: 205, 357, 464, 588, 513, 48\n",
    "'''\n",
    "\n",
    "create_syns(h.dendrite[685], h.dendrite[524], h.dendrite[520], h.dendrite[626], h.dendrite[205], h.dendrite[357], \n",
    "            h.dendrite[464], h.dendrite[588], h.dendrite[513], h.dendrite[48])\n",
    "#set_syn_pars()                  # use defaults"
   ]
  },
  {
   "cell_type": "markdown",
   "id": "24df88f2",
   "metadata": {},
   "source": [
    "# Experiments"
   ]
  },
  {
   "cell_type": "markdown",
   "id": "519c24e6",
   "metadata": {},
   "source": [
    "## create shape plot"
   ]
  },
  {
   "cell_type": "code",
   "execution_count": 5,
   "id": "327164a5",
   "metadata": {},
   "outputs": [
    {
     "data": {
      "text/plain": [
       "1.0"
      ]
     },
     "execution_count": 5,
     "metadata": {},
     "output_type": "execute_result"
    }
   ],
   "source": [
    "ps = h.PlotShape(0) # don't show a default view\n",
    "ps.show(0)         # show diameters\n",
    "ps.view(30,10,55,87, 300, 100, 500, 700)\n",
    "h.load_file('stdrun.hoc')"
   ]
  },
  {
   "cell_type": "code",
   "execution_count": 21,
   "id": "3c4160b1",
   "metadata": {},
   "outputs": [],
   "source": [
    "vc_current = h.Vector().record(h.VClamp[0]._ref_i)  # Voltage clamp current vector\n",
    "v_soma = h.Vector().record(h.soma[0](0.5)._ref_v)  # Membrane potential vector\n",
    "t = h.Vector().record(h._ref_t)  # Time stamp vector"
   ]
  },
  {
   "cell_type": "markdown",
   "id": "e480a577",
   "metadata": {},
   "source": [
    "## Run a short simulation and save after steady state is reached"
   ]
  },
  {
   "cell_type": "code",
   "execution_count": null,
   "id": "122b00f7",
   "metadata": {},
   "outputs": [],
   "source": [
    "# warning! if state changes (new synapses, etc) restoring saved state file will cause a crash!\n",
    "h.finitialize(-60 * mV)\n",
    "h.continuerun(100 * ms)\n",
    "# rewind and save\n",
    "h.finitialize()\n",
    "h.saveState()\n",
    "print(\"State saved to: \" + h.state_file_name)"
   ]
  },
  {
   "cell_type": "markdown",
   "id": "0e9e2974",
   "metadata": {},
   "source": [
    "## stimulate one synapse with varying magnitudes"
   ]
  },
  {
   "cell_type": "code",
   "execution_count": 22,
   "id": "1bb5a230",
   "metadata": {},
   "outputs": [],
   "source": [
    "syn = syns['dendrite[685]']"
   ]
  },
  {
   "cell_type": "code",
   "execution_count": 23,
   "id": "6e596304",
   "metadata": {
    "scrolled": true
   },
   "outputs": [
    {
     "name": "stdout",
     "output_type": "stream",
     "text": [
      "Reading state from file.\n",
      "Setting: weight=0.0018, tau=5, interval=0, magepsc=20, syne=0, number=1, start=10\n"
     ]
    },
    {
     "data": {
      "text/plain": [
       "0.0"
      ]
     },
     "execution_count": 23,
     "metadata": {},
     "output_type": "execute_result"
    }
   ],
   "source": [
    "h.restoreState()\n",
    "syn.set_stim(ps = ps, weight = .0018, tau=5, interval = 0, number = 1)\n",
    "h.finitialize(-60 * mV)\n",
    "h.continuerun(60 * ms)"
   ]
  },
  {
   "cell_type": "code",
   "execution_count": 33,
   "id": "239456e1",
   "metadata": {},
   "outputs": [
    {
     "data": {
      "text/html": [
       "\n",
       "  <div id=\"f18e8881-61bf-4d90-9b99-7637b389ca23\" data-root-id=\"p2976\" style=\"display: contents;\"></div>\n"
      ]
     },
     "metadata": {},
     "output_type": "display_data"
    },
    {
     "data": {
      "application/javascript": [
       "(function(root) {\n",
       "  function embed_document(root) {\n",
       "  const docs_json = {\"b989c916-ccf8-4088-a40d-811cb8175e88\":{\"version\":\"3.0.1\",\"title\":\"Bokeh Application\",\"defs\":[],\"roots\":[{\"type\":\"object\",\"name\":\"Figure\",\"id\":\"p2976\",\"attributes\":{\"x_range\":{\"type\":\"object\",\"name\":\"DataRange1d\",\"id\":\"p3031\",\"attributes\":{\"start\":9,\"end\":50}},\"y_range\":{\"type\":\"object\",\"name\":\"DataRange1d\",\"id\":\"p3032\",\"attributes\":{\"start\":-0.25,\"end\":0}},\"x_scale\":{\"type\":\"object\",\"name\":\"LinearScale\",\"id\":\"p2989\"},\"y_scale\":{\"type\":\"object\",\"name\":\"LinearScale\",\"id\":\"p2991\"},\"title\":{\"type\":\"object\",\"name\":\"Title\",\"id\":\"p2983\"},\"renderers\":[{\"type\":\"object\",\"name\":\"GlyphRenderer\",\"id\":\"p3028\",\"attributes\":{\"data_source\":{\"type\":\"object\",\"name\":\"ColumnDataSource\",\"id\":\"p3022\",\"attributes\":{\"selected\":{\"type\":\"object\",\"name\":\"Selection\",\"id\":\"p3023\",\"attributes\":{\"indices\":[],\"line_indices\":[]}},\"selection_policy\":{\"type\":\"object\",\"name\":\"UnionRenderers\",\"id\":\"p3024\"},\"data\":{\"type\":\"map\",\"entries\":[[\"x\",{\"type\":\"ndarray\",\"array\":{\"type\":\"bytes\",\"data\":\"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\"},\"shape\":[2401],\"dtype\":\"float64\",\"order\":\"little\"}],[\"y\",{\"type\":\"ndarray\",\"array\":{\"type\":\"bytes\",\"data\":\"AAAAAAAATkAAAOfieEeDvwAwtle3Doa/ACDd5ItNh78AAKy6zAOIvwBgvod0d4i/AHDqSKvFiL8AYBLZJP2IvwCgA6QAJom/AODLd/9Eib8AcPylCV2JvwDg/6r3b4m/AFAEI/9+ib8A4JIe8YqJvwCQaUJelIm/AOCBiK2bib8AcK3QKaGJvwDA5CkLpYm/AIAWdnynib8AUMdmn6iJvwCAoimPqIm/AJAbHGKnib8AEH4bK6WJvwBAEkz6oYm/ALAn+d2dib8A8Gu64piJvwBQYvATk4m/ANAs9nuMib8A8MdfJIWJvwBwfQYWfYm/AIDIIVl0ib8A4Kxs9WqJvwAAtyXyYIm/ACDFQFZWib8AcD41KEuJvwBwaSNuP4m/ANA1Bi4zib8AEI5obSaJvwBQk6MxGYm/AGAr0n8Lib8AYOTpXP2IvwBgunzN7oi/APA2ENbfiL8AYKfretCIvwBQdT3AwIi/AODN9amwiL8AwPnrO6CIvwDQk6x5j4i/AOCo0GZ+iL8AsHy/Bm2IvwDAia5cW4i/AODXxmtJiL8AIBgMNzeIvwCwFmnBJIi/AEC7rw0SiL8AcJaMHv+HvwDgOKz264e/AHD3fJjYh78AUJl5BsWHvwAgAQRDsYe/ADBITFCdh78A8PmOMImHvwCw2NbldIe/ADCLR3Jgh78A0HzG10uHvwDwikUYN4e/AGCunTUih78AQImCMQ2HvwDAocAN+Ia/AKAn/8vihr8AcGXMbc2GvwBQprb0t4a/AMA0TGKihr8AMHcCuIyGvwAA7zX3doa/ALAdQyFhhr8AQBJ6N0uGvwDg2yo7NYa/AECljC0fhr8AgJjWDwmGvwBw+ybj8oW/ACAUnKjchb8A0LVHYcaFvwBQJkgOsIW/AODhibCZhb8AQLweSYOFvwCgMfPYbIW/AFBM52BWhb8AgIjn4T+FvwBw8NNcKYW/ABCOjNIShb8AsBTMQ/yEvwDQG2ax5YS/AADJIRzPhL8AUM+5hLiEvwBgb9zroYS/AHBcRFKLhL8AMNefuHSEvwDQrZAfXoS/ALA8rIdHhL8AsDat8TCEvwBAExBeGoS/AHAuas0DhL8AkFZdQO2DvwAgA2a31oO/APAdDTPAg78A0KvCs6mDvwAweyg6k4O/AICslcZ8g78AkCmTWWaDvwDghITzT4O/AFCo8pQ5g78A4EEoPiODvwBAO67vDIO/AHBCz6n2gr8AkFz7bOCCvwAQqok5yoK/ACBL0Q+0gr8AcNI18J2CvwBwYA7bh4K/ALAVstBxgr8AsC1f0VuCvwDAyGzdRYK/APCUJfUvgr8AwLLgGBqCvwBw689IBIK/AGBfSoXugb8A8NeBztiBvwAwA8Ekw4G/ALAcRoitgb8A0O1C+ZeBvwCwJAJ4goG/AMCKtQRtgb8AIOmOn1eBvwCwe8xIQoG/AECZkwAtgb8A0H0ixxeBvwBw8qqcAoG/APDbRYHtgL8AAHYxddiAvwDQiZ94w4C/AACKnIuugL8AcCRzrpmAvwCAyy/hhIC/AHBIBCRwgL8AUPIVd1uAvwDwrX3aRoC/ADDSYE4ygL8AELbk0h2AvwCgsC5oCYC/AOCDfRzqf78AIEumisF/vwDAm/AamX+/AGA/js1wf78AAP+wokh/vwBApIqaIH+/AGD4TLX4fr8AIKlC89B+vwAg0lJUqX6/AEAG4diBfr8AACoGgVp+vwDAIdtMM36/AEC3kTwMfr8AQOopUOV9vwAAae6Hvn2/ACAY+OOXfb8AINxfZHF9vwAgtSUJS32/AIBse9Ikfb8AAOd5wP58vwAgCTrT2Hy/AIC31AqzfL8AYPJJZ418vwAgg8voZ3y/AGBpWY9CfL8AwKXzWh18vwDAAMxL+Hu/AGCWyWHTe78AoC8ena57vwDAzMn9iXu/AGBS5YNle78AoNtXL0F7vwCATToAHXu/AECMpfb4er8AoLOAEtV6vwAAqORTsXq/AEBO6rqNer8AAN1fR2p6vwBgHXf5Rnq/AMAPMNEjer8A4M5xzgB6vwBgWzzx3Xm/AOCZqDm7eb8AwIm2p5h5vwAgR007dnm/AEDRbPRTeb8AwCgV0zF5vwAAMl/XD3m/AKAjGQHueL8AwP1CUMx4vwAApfXEqni/AMA0GF+JeL8AIMiRHmh4vwAgRHsDR3i/AODeog0meL8AIGI6PQV4vwAgIPeR5He/AOD88QvEd78AgBQSq6N3vwDASnBvg3e/ACDywVhjd78AYO8fZ0N3vwBgQoqaI3e/AOAhz/IDd78AYI3ub+R2vwDgoM8RxXa/AMBAi9ildr8AwL7Ww4Z2vwDg/8rTZ3a/AIAfTwhJdr8AoDhKYSp2vwCgS7zeC3a/AOCOc4Dtdb8AAOeIRs91vwBAprEwsXW/AECxBj+Tdb8A4CJvcXV1vwAgF9LHV3W/AEDE/UE6db8A4A4L4Bx1vwCAEuGh/3S/AMAFTofidL8AwAM5kMV0vwDgDKK8qHS/AMAgiQyMdL8AYJGjf290vwBAX/EVU3S/AOCJcs82dL8AYGPcqxp0vwBg0Eer/nO/AEDsm83ic78AAAmOEsdzvwAgCzd6q3O/ACAOfgSQc78A4GMYsXRzvwDg1TeAWXO/ACDReHE+c78AoDr0hCNzvwCgLZG6CHO/ACD8BBLucr8AgIpoi9NyvwDAD4omuXK/ACCnUOOecr8AQFC8wYRyvwDAXYLBanK/AEDPouJQcr8A4L8EJTdyvwBgS4+IHXK/AKCMKQ0Ecr8A4LqhsupxvwDg8N540XG/AMAu4V+4cb8AYKt2Z59xvwBAgoaPhnG/ACDO99dtcb8AYKqxQFVxvwDAMpvJPHG/AKCdgnIkcb8AAOtnOwxxvwAgbQAk9HC/AEAIZSzccL8AYPNjVMRwvwDgSeSbrHC/AMBBtAKVcL8A4NvTiH1wvwAAThEuZnC/AEC0U/JOcL8AoCmC1TdwvwBgyYPXIHC/AOCuP/gJcL8AACIIb+ZvvwAAFXAquW+/AIBuhSKMb78AAGUWV19vvwBALvHHMm+/AAA5snQGb78AwLonXdpuvwCA6h+Brm6/AADImuCCbr8AwPcCe1duvwAAsCZQLG6/AMDwBWABbr8AgCc9qtZtvwCAwWgurG2/AECIuuyBbb8AAB+d5FdtvwCAvd4VLm2/AMCYTYAEbb8AgOm3I9tsvwDA5Ov/sWy/AID4hRSJbL8AAFtUYWBsvwBADFfmN2y/AECx+KIPbL8AwEg5l+drvwDAQLXCv2u/AACZbCWYa78AQL77vnBrvwAAH/+OSWu/AEC6dpUia78AQMcw0vtqvwCAsslE1Wq/AADq3eyuar8AwDafyohqvwCAPXjdYmq/AED9aCU9ar8AwOMNohdqvwAAJzVT8mm/AAD/rDjNab8AQKFDUqhpvwBAe5Wfg2m/AACNoiBfab8AQHvV1DppvwDADWC8Fmm/AADqrNbyaL8AgA+8I89ovwAA6ymjq2i/AEB99lSIaL8AwGmMOGVovwDAsOtNQmi/AABSFJUfaL8AwCc/Df1nvwAA/J222me/AEA8zZC4Z78AwOfMm5ZnvwBAowfXdGe/AMBtfUJTZ78AALXK3TFnvwCAee+oEGe/AAAoiKPvZr8AgPdizc5mvwAA538mrma/AICbSa6NZr8AAEyOZG1mvwDAwH9JTWa/AECeiFwtZr8AwBp3nQ1mvwCAbRkM7mW/AMDMPajOZb8AgG+yca9lvwDAi0VokGW/AMBYxYtxZb8AgEPO21JlvwAAgy5YNGW/AIAW5gAWZb8AAGyR1fdkvwAAuv7V2WS/AAAALgK8ZL8AAOOJWZ5kvwDAYRLcgGS/AEC0lYljZL8AQEawYUZkvwAAGWJkKWS/AMBieZEMZL8AAMdg6O9jvwBA2Xtp02O/AIBzAxS3Y78AAF8p6JpjvwCAQFjlfmO/AEDgwQtjY78AwKwCW0djvwCA2+jSK2O/AICkQnMQY78AQHOsO/VivwCAElgs2mK/AIAlsES/Yr8AgOOChKRivwCAFQLsiWK/AEBfmHpvYr8AwMBFMFVivwBAqKYMO2K/AEAUuw8hYr8AQDxROQdivwDAjQWJ7WG/AEAI2P7TYb8AABllmrphvwBAwKxboWG/AMBrS0KIYb8AgBpBTm9hvwDAOip/VmG/AADMBtU9Yb8AgASlTyVhvwAAUqHuDGG/AMDrybH0YL8AQJpQmdxgvwCAAaCkxGC/AMAhuNOsYL8AgGg1JpVgvwCA1RecfWC/AECfLTVmYL8AgPxE8U5gvwCg/G89tXC/AMAtpV6og78AIPYJufuSvwAYBX/q1p6/AJQbK2Ixpr8A5B6vZlutvwA4MkZZSLK/ADhPvCrKtb8AKL+AKyC5vwBO90PfP7y/AK6YPKgkv78AvKuX3+bAvwC7aRlfHsK/APbsjlA6w78Arzg9jjzEvwDcXX0YJ8W/AHe89vP7xb8Az4tnFb3GvwAr5T5WbMe/ABaB124LyL8AxJ1A9JvIvwB+UytYH8m/AO5pJuqWyb8Ax/yQ2QPKvwCIsuI3Z8q/AOwtHfvByr8AU0Y3ABXLvwDAPmwNYcu/AJamc9Smy78AleKF9ObLvwCJez78Icy/AHSjTGtYzL8Ao0cCtIrMvwA6y7Y8ucy/AFsyDGHkzL8A52cNcwzNvwBNEDK8Mc2/ACbNS35Uzb8A4/BO9HTNvwAuMhRTk82/ADGz+cmvzb8AHLN6g8rNvwARlLSl482/AGYZ3VL7zb8AY2yrqRHOvwB+WbnFJs6/AAiN1r86zr8ABXpSrk3OvwCm60OlX86/AMoHwbZwzr8A0d8Y84DOvwCrOf5okM6/AEkguiWfzr8Aq8hLNa3OvwCTWoyius6/AKOcT3fHzr8ANqB9vNPOvwDFFyp6386/ALECrrfqzr8A7K21e/XOvwAxQ1fM/86/AIICIK8Jz78ApHshKRPPvwDGjv8+HM+/AIFQ+/Qkz78AxSb9Ti3PvwAGAptQNc+/AJXPJP08z78ATl2oV0TPvwBD6PliS8+/AEg5tyFSz78AlDNQlljPvwC71AbDXs+/AHaK+Klkz78AnjIeTWrPvwA1jVGub8+/AF48Tc90z78AwMSzsXnPvwBJxg5Xfs+/ALFR0cCCz78ABgVb8IbPvwD8mfnmis+/ADB06qWOz78ANKFaLpLPvwAY9WmBlc+/AFFDKqCYz78Aiwmki5vPvwDYxNFEns+/APTxpsygz78AbWILJKPPvwBaIN9Lpc+/AFtu+kSnz78AdwAtEKnPvwDP30Guqs+/APGG+x+sz78ANzcWZq3PvwBpFUuBrs+/AJHwSXKvz78AagnBObDPvwBfoFfYsM+/AGygsk6xz78APPRvnbHPvwAIMSvFsc+/AFIIfMaxz78AAA/3obHPvwDWoCpYsc+/AI0Zpemwz78ABCrwVrDPvwBhn5Ggr8+/AFTxDMeuz78ARgnkyq3PvwC9JZSsrM+/AB2+mWyrz78AwNdrC6rPvwBNBoOJqM+/AEGkUeemz78APdNKJaXPvwAACt1Do8+/ACf4dUOhz78AAL+BJJ/PvwD/1GfnnM+/ANk+kYyaz78AbVZiFJjPvwBrrj5/lc+/AEFLiM2Sz78AwRSe/4/PvwDoud8Vjc+/AKR3pxCKz78AX+BR8IbPvwC/oje1g8+/ACTfr1+Az78AnScQ8HzPvwBBDq5mec+/AI0I3MN1z78A28TrB3LPvwA2Yy0zbs+/AF5170Vqz78A+MV/QGbPvwBQkSojYs+/AEq+Oe5dz78A7fr3oVnPvwCs2Kw+Vc+/ANMhn8RQz78ArqAVNEzPvwAcylSNR8+/AKqEn9BCz78AEn45/j3PvwBOgGIWOc+/AMyqXBk0z78AFXJlBy/PvwAD2bvgKc+/AB1UnaUkz78AqMlFVh/PvwC9WPDyGc+/AFJZ13sUz78AOVw08Q7PvwD2Yz9TCc+/AOirL6IDz78Ac2883v3OvwCElJoH+M6/AFiPgB7yzr8AbfAgI+zOvwBpD68V5s6/APBDXvbfzr8AOpBfxdnOvwB59uOC086/AL6xGy/Nzr8Ay241ysbOvwCPoWBUwM6/AIBoys25zr8AZnChNrPOvwBGghCPrM6/AJ+8RNelzr8Ad+hoD5/OvwC0B6c3mM6/AGDjKVCRzr8AN7YaWYrOvwCwLKFSg86/AImB5jx8zr8A69IQGHXOvwBvlEjkbc6/ABsds6Fmzr8AFYt2UF/OvwA9brfwV86/AJcdm4JQzr8AAilGBknOvwDoytp7Qc6/AC2TfeM5zr8APLxQPTLOvwBfuXWJKs6/ACiMD8gizr8AcVI9+RrOvwDNDSIdE86/ABTc3DMLzr8ARKKNPQPOvwA2flM6+82/AMGNTSrzzb8A6LWbDevNvwDm91nk4s2/AJlxp67azb8AZ+ugbNLNvwDf9GMeys2/AEOPDMTBzb8A/IK3XbnNvwAmCoDrsM2/AOFegW2ozb8Aa4LX45/NvwDmrp1Ol82/AP/I7K2Ozb8Aq0PfAYbNvwAJWZBKfc2/AKQmGIh0zb8AIpGPumvNvwCCCxHiYs2/ACPss/5Zzb8AsxeREFHNvwBsHb8XSM2/ACWpVxQ/zb8AGkpxBjbNvwCrViPuLM2/APKWg8sjzb8AdSiqnhrNvwBM06xnEc2/AJFfoSYIzb8AfVye2/7MvwAEy7iG9cy/AD9zBijszL8AHlacv+LMvwCTdI9N2cy/AGwI9NHPzL8Av9nfTMbMvwAQlGW+vMy/AFA4miazzL8AJjmRhanMvwBf0F7bn8y/AKJwFiiWzL8ATP7Ja4zMvwBReo6mgsy/AAnJddh4zL8A+JWSAW/MvwDGU/ghZcy/AKkfuDlbzL8AJqXkSFHMvwC6j5BPR8y/AJ/8zE09zL8ADQmrQzPMvwCpJz4xKcy/AF7nlRYfzL8As/PE8xTMvwC1otvICsy/AJ0R65UAzL8AfZYDW/bLvwCwFTcY7Mu/AP1WlM3hy78A6AUue9fLvwARIxIhzcu/ANKSUr/Cy78A9hz+VbjLvwCx3iXlrcu/AM6f2Gyjy78AWrYm7ZjLvwAe6h5mjsu/AE9Y0teDy78AbDpOQnnLvwCG5qKlbsu/AIfr3wFky78AOREUV1nLvwA6WE2lTsu/AJ8WnOxDy78A4YUNLTnLvwAV/LFmLsu/ALKylpkjy78AhXHKxRjLvwBQAFzrDcu/ALZfWQoDy78AW5DQIvjKvwABWtA07cq/AE69ZkDiyr8AuvOgRdfKvwANxY1EzMq/AMRqOj3Byr8AguW0L7bKvwDlNQscq8q/AGuVSgKgyr8AtASB4pTKvwAY9rq8icq/AF4xB5F+yr8AAPByX3PKvwBVpAooaMq/ANyH2+pcyr8AWmL0p1HKvwDZF2BfRsq/ACFwLRE7yr8Aid1ovS/KvwCPmR9kJMq/AIYWXgUZyr8AEFUyoQ3KvwA8Oac3Asq/AMuKy8j2yb8Azy2qVOvJvwDoIlHb38m/AGjczFzUyb8Aq8wp2cjJvwAqLXVQvcm/APLhucKxyb8Ao+sFMKbJvwBw9WSYmsm/AK5x4/uOyb8AtdKNWoPJvwAAUnG0d8m/AJ3TmAlsyb8A3skQWmDJvwBDbualVMm/APxrJe1Iyb8AXzXaLz3JvwB4rg9uMcm/AOrX06clyb8Ams4w3RnJvwADzDMODsm/AH1C6ToCyb8AFBZcY/bIvwAeuZiH6si/AMvWqqfeyL8AThqew9LIvwAjvX/bxsi/AFSjWu+6yL8AE3g6/67IvwCT5ioLo8i/AChhOBOXyL8ABpNuF4vIvwBZJ9kXf8i/ADICgxRzyL8ADF15DWfIvwDLVMYCW8i/AOwid/ROyL8AV+SV4kLIvwCH0i/NNsi/AGQKT7QqyL8AGjf/lx7IvwAqkk14Esi/AFRxQ1UGyL8AEg7uLvrHvwBxTFgF7se/AKPXjdjhx78As5OZqNXHvwD58od1yce/AFgSYz+9x78ATis4BrHHvwCfkxDKpMe/AL+E+YqYx78AwuL9SIzHvwCwkSgEgMe/ALo8hbxzx78A7scecmfHvwCepQElW8e/ALfyN9VOx78AYlrNgkLHvwDYh80tNse/AEcmRNYpx78AlVI7fB3HvwDzt74fEce/AJMB2sAEx78AfhOYX/jGvwDF0QP868a/ALuuKZbfxr8AR8cTLtPGvwBz/8zDxsa/AJrJYVe6xr8Aenvb6K3GvwCOTkd4oca/AL9frwWVxr8AFpMekYjGvwCgzJ8afMa/ALZ+P6Jvxr8AFf8GKGPGvwAXwAKsVsa/AJ/ePC5Kxr8ABs3Brj3GvwAL4ZotMca/AOPF06okxr8AuyZ4JhjGvwB7IJKgC8a/AFZeLRn/xb8AU8RUkPLFvwBdbxIG5sW/AKIKcnrZxb8AMHp+7czFvwASokJfwMW/AFVmyc+zxb8AAqsdP6fFvwAmVEqtmsW/AM5FWhqOxb8ABGRYhoHFvwDUkk/xdMW/AEy2Sltoxb8AUOtTxFvFvwA2pHcsT8W/AJ1vvpNCxb8A2L80+jXFvwDzeOVfKcW/ALHw2cQcxb8AQ9IdKRDFvwCzAbyMA8W/AA5jv+/2xL8AGEwxUurEvwAgLx603cS/AOxhjxXRxL8AiMiPdsTEvwD/RirXt8S/AFzBaTerxL8AhVRYl57EvwCI5AD3kcS/AG5VblaFxL8A+/yptXjEvwBfhr8UbMS/AH8OuXNfxL8AZ3mh0lLEvwD+44IxRsS/ACxrZ5A5xL8A+fJZ7yzEvwB0X2VOIMS/AF0Gk60TxL8A5ZLuDAfEvwDMWoFs+sO/APp6Vcztw78AoJ52LOHDvwB+G+6M1MO/AHoOxu3Hw78AyCIKT7vDvwAA58KwrsO/AFQG/BKiw78AYQ++dZXDvwBYrRTZiMO/AB79CT18w78AdFSnoW/DvwBC0PYGY8O/AJNUA21Ww78ATf7W00nDvwAxI3s7PcO/ACXg+aMww78ANRleDSTDvwAkJLF3F8O/ALFW/OIKw78A5ZRKT/7CvwCq+6W88cK/AMPgFyvlwr8AEWGqmtjCvwBZ0mYLzMK/AH5RV32/wr8Aj8KG8LLCvwD/7PxkpsK/AAN8xdqZwr8ANP7oUY3CvwB2kHHKgMK/AJCIaER0wr8AYgPYv2fCvwCPj8g8W8K/AEDYRbtOwr8A76RXO0LCvwCFEgi9NcK/AL52YEApwr8AXSdqxRzCvwBIQS9MEMK/ABxTuNQDwr8A5EAQX/fBvwAW0j7r6sG/AHNcTXnewb8ABcRGCdLBvwBE0DKbxcG/APLWGi+5wb8A8/QIxazBvwDkuAVdoMG/AIR4GveTwb8AdMJPk4fBvwCTs68xe8G/AFoTQtJuwb8AsP4QdWLBvwBYyyUaVsG/AJ95h8FJwb8Aku1Aaz3BvwDOtVoXMcG/AMeZ3MUkwb8APu/PdhjBvwAb0z4qDMG/AIh+L+D/wL8AktWsmPPAvwCun75T58C/AHhrbRHbwL8AsY7C0c7AvwDQ0MWUwsC/AG7Af1q2wL8ATLP5IqrAvwC/qTruncC/AKnATLyRwL8Agr83jYXAvwDBbQNhecC/ACQhuTdtwL8A/dlfEWHAvwAN7gDuVMC/AM0kpM1IwL8A0wxSsDzAvwB0phGWMMC/AJYO7X4kwL8AYn7qahjAvwB1hBJaDMC/AEXobEwAwL8AKP8FhOi/vwAUB7Z10L+/AI4F+224v78AMPvibKC/vwCAk4ByiL+/ABzP4X5wv78ArK4Ukli/vwCs3SusQL+/AChAMs0ov78AoIE69RC/vwC+olIk+b6/AB6kiFrhvr8A8qLtl8m+vwCaEY7csb6/AP5+eSiavr8ABnq/e4K+vwBYA27War6/AJobkzhTvr8AZMM8oju+vwDyF3wTJL6/AFL9W4wMvr8AagLsDPW9vwDgJzqV3b2/AJ78VSXGvb8AsmRKva69vwAG7yZdl72/AECc+QSAvb8Art7OtGi9vwD6trRsUb2/AAq0uiw6vb8Apivq9CK9vwD8OlTFC72/ANQ3Ap70vL8AYj8Ff928vwC0NWhoxry/AByNN1qvvL8AitSCVJi8vwDCYVNXgby/AF41t2JqvL8AusG6dlO8vwB0B2yTPLy/AJrq1bglvL8AOk8D5w68vwA6xAMe+Lu/AKgt4l3hu78Alm+ppsq7vwAGbmT4s7u/AOy3IlOdu78ABqPttoa7vwCqodEjcLu/AOKX2ZlZu78AvGkQGUO7vwCSiYKhLLu/ALZpPDMWu78A6F9Hzv+6vwA6UK5y6bq/APqsfSDTur8A8su+17y6vwByH36Yprq/AD79xGKQur8AqtefNnq6vwAudhYUZLq/AGjZNvtNur8A2MgI7De6vwAympXmIbq/ACRO6+oLur8AzB0Q+fW5vwCOexAR4Lm/ANYu9DLKub8A/qnHXrS5vwB+tJKUnrm/ABSkXtSIub8AzFw2HnO5vwBqNCNyXbm/AKyALtBHub8ACglgODK5vwBEI8GqHLm/AGazXCcHub8A5IA6rvG4vwA0U2I/3Li/AGYO39rGuL8A8Hm4gLG4vwCQ6/cwnLi/AHSco+uGuL8AVuLEsHG4vwBKoWaAXLi/AC6EjVpHuL8AwuBCPzK4vwB4fo4uHbi/ABizeSgIuL8AzrcKLfO3vwBS4ko83re/ANxrQFbJt78AjI3xerS3vwBwK2mqn7e/ALR+reSKt78AQjLDKXa3vwAWKrV5Ybe/ABwRiNRMt78Awq5DOji3vwCGyu+qI7e/AEIPkSYPt78AcEQvrfq2vwCGMdI+5ra/AGKBftvRtr8Aevs7g722vwD82BA2qba/AMbEAfSUtr8AUoYWvYC2vwDKVlWRbLa/AAjhwnBYtr8AiuxmW0S2vwAwJEZRMLa/ANQyZVIctr8AplHKXgi2vwDSuXt29LW/AIKkf5ngtb8ATi7Zx8y1vwCoHpABubW/ACaSp0altb8ArjMkl5G1vwCsyg3zfbW/AMJzZ1pqtb8Afks0zVa1vwBWGXxLQ7W/ACqIQ9Uvtb8ASCaMahy1vwDeLFwLCbW/AMZGuLf1tL8A4B6lb+K0vwDI0SUzz7S/AFwKPwK8tL8AMOXz3Ki0vwAkDUnDlbS/ABotQ7WCtL8AqGHlsm+0vwBixzK8XLS/AOJ6LtFJtL8ATLXe8Ta0vwCodkMeJLS/ABr4YlYRtL8A8sc+mv6zvwDEAtrp67O/AHBTOUXZs78APkherMazvwDI/UsftLO/AKaQBZ6hs78AaB2OKI+zvwBYMue+fLO/ABTsE2Fqs78ALGcXD1izvwAuwPTIRbO/ACj3q44zs78A9LZBYCGzvwCQ/7U9D7O/AOB7DSf9sr8A5CtIHOuyvwDonWcd2bK/AMR8cCrHsr8ANDphQ7WyvwDQ8jxoo7K/ACrDBpmRsr8AQKu+1X+yvwBiOWYebrK/ANj7/nJcsr8A7ICK00qyvwCgyAhAObK/AIjvfLgnsr8A8IPoPBayvwCO90nNBLK/APJmpGnzsb8A2kP2EeKxvwDUqkLG0LG/ADAqi4a/sb8AVqXMUq6xvwAmxwsrnbG/AAxzRQ+Msb8A6FN+/3qxvwDWvrH7abG/AL5e5ANZsb8ATqUUGEixvwCKkkI4N7G/AHImbmQmsb8ABmGXnBWxvwCK0L/gBLG/ALrm5TD0sL8AThUIjeOwvwDUeCn10rC/ALz0RmnCsL8ABIlg6bGwvwD2w3d1obC/AP6IiQ2RsL8AZGaXsYCwvwCWP55hcLC/AOCinx1gsL8A8AGa5U+wvwDMXI25P7C/AN6WdpkvsL8AbD5XhR+wvwDoNix9D7C/AADk5wH/r78ABPxfId+vvwBMmb1Yv6+/AAxm96efr78A5H4QD4CvvwA0xwWOYK+/AGwi1CRBr78AZFd10yGvvwAUZumZAq+/AFQVKnjjrr8AMGU3bsSuvwD8OA58pa6/AAg7paGGrr8A3If/3meuvwDMyRM0Sa6/AMAA4qAqrr8AnPNjJQyuvwAwaZPB7a2/AIBhcHXPrb8AWKP0QLGtvwCY9Rkkk62/AJw73R51rb8A4Fg7MVetvwCU9ypbOa2/AMAXrJwbrb8ApGO19f2svwCkvkNm4Ky/AJTvUO7CrL8ATL3WjaWsvwA8C9JEiKy/ADSgPBNrrL8ACEMQ+U2svwCMukb2MKy/AJTN2QoUrL8AjF/GNvervwC8GgN62qu/AOjFidS9q78A6CdURqGrvwCgB1zPhKu/AGhInm9oq78A8HcOJ0yrvwCsean1L6u/AGAUadsTq78A8A5H2PeqvwAA9zbs26q/APCvNRfAqr8AoAA9WaSqvwBMk0OyiKq/AMwuQyJtqr8A7Jk1qVGqvwBkYg5HNqq/AJBryvsaqr8ASHxjx/+pvwBAIs2p5Km/AEAkAaPJqb8AIEn5sq6pvwAcO6zZk6m/AISkEBd5qb8AFEwga16pvwAY3NHVQ6m/AGwbH1cpqb8APLT+7g6pvwBINGSd9Ki/AOR+TGLaqL8AzCGrPcCovwDM43kvpqi/ABxvrzeMqL8ADG5CVnKovwBkpyyLWKi/ADiMXtY+qL8A+P/UNyWovwDkrIavC6i/AAgEZD3yp78AZAVt4dinvwAYIpKbv6e/AFgEymump78ABHMOUo2nvwCw+1JOdKe/ALhIjmBbp78A0CC6iEKnvwAo9cbGKae/ABypsRoRp78AyK1qhPimvwD0yesD4Ka/AFyLKJnHpr8AvLgaRK+mvwA8w7IEl6a/ABhV59p+pr8AtFG1xmamvwCQDQrITqa/AIRP3942pr8AOKUoCx+mvwDsuNxMB6a/ANQ08qPvpb8AqKZcENilvwCouBKSwKW/AAQVCymppb8AeEk51ZGlvwCc45CWeqW/ALiNCG1jpb8ADPKWWEylvwBEni9ZNaW/APwfxm4epb8AGD5UmQelvwCgacrY8KS/AHRpIi3apL8ABJJJlsOkvwDExjwUraS/ADRc6aaWpL8AvDVMToCkvwDcp1IKaqS/AFx59tpTpL8AXBsowD2kvwCwVOG5J6S/ANh5D8gRpL8AOG6v6vujvwBUhq4h5qO/APSIBm3Qo78APOenzLqjvwBkS4lApaO/ABhDnsiPo78A9FvaZHqjvwBMQDQVZaO/AChhnNlPo78AZIUMsjqjvwBwAXKeJaO/ACycxp4Qo78ArMb6svuivwAoKwXb5qK/AFBX2RbSor8AzNhqZr2ivwCwIKrJqKK/AND1kECUor8A1OUSy3+ivwDMYSBpa6K/AHD3rBpXor8A6FCv30KivwDw+xq4LqK/AKBp4KMaor8AvGD5ogaivwDENVO18qG/AJiv59reob8AsCKkE8uhvwDgVYJft6G/AKSdb76job8A1MBlMJChvwCMMFW1fKG/APiWNE1pob8ApEjx91WhvwBkDIW1QqG/AExT4IUvob8A+Kr2aByhvwAgobteCaG/AADgJWf2oL8AFLwiguOgvwA0/Kuv0KC/AHQRsu+9oL8AdIkoQqugvwDs8QKnmKC/ANy7MR6GoL8AMK6up3OgvwDsOWpDYaC/ADDQVPFOoL8AKBtlsTygvwCMqI6DKqC/AHDpwWcYoL8AEIj1XQagvwAA6zPM6J+/AOi3SwDFn78AACANWKGfvwDYsGvTfZ+/AJBMSHJan78AsEeQNDefvwBASx4aFJ+/AIhy2SLxnr8AIEu1Ts6evwAgfoydq56/APhfTA+Jnr8A0NLVo2aevwAA8g9bRJ6/ABAS6DQinr8A4Ns4MQCevwAw3fVP3p2/APC++ZC8nb8A2A449JqdvwDIdYt5eZ2/AEAP2yBYnb8AiC8U6jadvwD4uBfVFZ2/APD/0uH0nL8AqOYmENScvwBAT/Rfs5y/AGDHLtGSnL8ACPiwY3KcvwCwNWgXUpy/AIhiNewxnL8AENMF4hGcvwCAosD48Zu/AAB6QDDSm78AIOd4iLKbvwDYkkQBk5u/ANAKl5pzm78AGPhKVFSbvwBI6FMuNZu/AEBLhigWm78AwOfbQveavwCoLSl92Jq/AKCqYde5mr8A8HlsUZuavwCoRCTrfJq/AHCYfKRemr8AIB5QfUCavwCQY5J1Ipq/AJgRHo0Emr8A4Hzgw+aZvwBYh7oZyZm/ANi+n46rmb8AGJNkIo6ZvwAAywLVcJm/AEjWTqZTmb8AuEI8ljaZvwCAK7KkGZm/AMA5i9H8mL8ACPu6HOCYvwCQUSKGw5i/AJBYqA2nmL8AeCs0s4qYvwCwHrN2bpi/AEjb/1dSmL8AuLUHVzaYvwBIybFzGpi/AGAx5a3+l78AOAmJBeOXvwAwbIR6x5e/AKh1vgysl78A6EAevJCXvwAw6YqIdZe/APiJ63Fal78AUAUheD+XvwDY6B6bJJe/AMgWxtoJl78AaKr9Nu+WvwD4haav1Ja/AAg3tES6lr8A8NgN9p+WvwCwFI7DhZa/APh3KK1rlr8AuKu3slGWvwDYdjXUN5a/ACiCfBEelr8AMOlzagSWvwBIAAnf6pW/AOjiIm/Rlb8ACHOiGriVvwB4PnvhnpW/AEgnjsOFlb8AsA+8wGyVvwBYhfjYU5W/AJCjKgw7lb8AcEwzWiKVvwBom/nCCZW/AAAecUbxlL8ASH105NiUvwDADfGcwJS/AOgj1G+olL8AENsEXZCUvwBQFWRkeJS/ABDu2IVglL8A4PJWwUiUvwAIBr8WMZS/ANBC+IUZlL8AyDb2DgKUvwDgUY2x6pO/AOhat23Tk78AKG1bQ7yTvwDIaloypZO/ADBvmzqOk78A8AcSXHeTvwAwF5+WYJO/AHDxL+pJk78A6HilVjOTvwBAO/PbHJO/AJAa+nkGk78AWGunMPCSvwD4SOL/2ZK/ALjOkefDkr8ACFGj562SvwBY6/3/l5K/APi4iDCCkr8AWA4xeWySvwD4P+TZVpK/AND2fFJBkr8AmMDu4iuSvwDI8SaLFpK/AHhsBksBkr8ASIV6IuyRvwBwV2oR15G/AGg3wxfCkb8AoEBsNa2RvwB4x1JqmJG/ADCuV7aDkb8AWIJuGW+RvwBgX36TWpG/ALiZdCRGkb8AgBMyzDGRvwBAIaSKHZG/AJhQvl8Jkb8AmEpbS/WQvwAA1nRN4ZC/ANCb5WXNkL8AuCmhlLmQvwBA1JTZpZC/AHh9oTSSkL8AELO6pX6QvwBwkMcsa5C/AMgwr8lXkL8A4CFlfESQvwCYDMREMZC/ABDxyyIekL8AAD9RFguQvwDg7Kc+8I+/ALCAXXvKj78A4FSq4qSPvwAAoFx0f4+/ABALTzBaj78AsMxPFjWPvwAwAEYmEI+/AEDc/1/rjr8AgJdLw8aOvwAA2wNQoo6/AJBPAwZ+jr8AQJ4k5VmOvwCQiyntNY6/AOCkBR4Sjr8AACGHd+6NvwCANnz5yo2/AHCOv6Onjb8AwNErdoSNvwBwqZtwYY2/ADBM3ZI+jb8A4GLL3BuNvwDgCE1O+Yy/AJACJOfWjL8AMGs3p7SMvwCAeVWOkoy/AKBIZZxwjL8AEJ0o0U6MvwBQBJMsLYy/ANBCZq4LjL8AoAF9VuqLvwAgzsokyYu/AJD6BBmoi78AgBQfM4eLvwBwUudyZou/AKBdONhFi78A4N7sYiWLvwBAf98SBYu/AFB13ufkir8AgNzQ4cSKvwCwXZEApYq/AOCh+kOFir8AwN/aq2WKvwBwwAw4Roq/AFDRg+gmir8AcGT1vAeKvwCwB1W16Im/AMBjfdHJib8A0CFJEauJvwBweIZ0jIm/AJAQEPttib8AwAXNpE+JvwCgAJhxMYm/AGCqS2ETib8AAKzCc/WIvwAgPMuo14i/AGDoWAC6iL8AcOc5epyIvwBg4kgWf4i/AOCBYNRhiL8AoOFntESIvwBwqjm2J4i/APASpNkKiL8AkDaOHu6HvwBwMN+E0Ye/AGA3ZQy1h78AYPT6tJiHvwCggod+fIe/APAY2Whgh78A0ETjc0SHvwAAPXSfKIe/ALAcc+sMh78AwBquV/GGvwBgUgzk1Ya/AADfdJC6hr8AAPe1XJ+GvwDwtbZIhIa/AMDEUVRphr8AUMxhf06GvwAg6M3JM4a/ABDBcDMZhr8AIAAlvP6FvwCwwNFj5IW/ALCrUSrKhb8AIGp/D7CFvwDgpDUTloW/ANDpZzV8hb8AcG/kdWKFvwAgUZLUSIW/AOA3TFEvhb8A4D756xWFvwAAnWek/IS/AMDfinrjhL8AILA9bsqEvwAgt1p/sYS/ANCdvK2YhL8AsPFW+X+EvwCA6fdhZ4S/AAATk+dOhL8AwKT2iTaEvwAAuglJHoS/AND7piQGhL8AcIW1HO6DvwBAchwx1oO/AGBrtmG+g78A4ItqrqaDvwDwfBMXj4O/AHDni5t3g78AAFnHO2CDvwCACJT3SIO/AGCD5c4xg78AUACKwRqDvwBQf4HPA4O/ANDEjfjsgr8AUF6iPNaCvwDw9Jmbv4K/ACAWaBWpgr8A0PjaqZKCvwAguNlYfIK/AFBvSyJmgr8AEDoXBlCCvwDgwBcEOoK/ADCtJxwkgr8AwP5GTg6CvwBA7EOa+IG/AKAe+f/igb8AsCNaf82BvwCQFk4YuIG/AGCgr8qigb8AcNxllo2BvwCgc0t7eIG/ANDzU3ljgb8AYJNNkE6BvwCQUjjAOYG/APBn4gglgb8AEGE/ahCBvwAA5ynk+4C/ABAViXbngL8AoAZEIdOAvwCgZDXkvoC/AMC8UL+qgL8AQCp9spaAvwDQ44i9goC/AJDpc+BugL8AEHIMG1uAvwDQCkZtR4C/AFDPB9czgL8AcGgsWCCAvwCg8ZrwDIC/AADxjUDzf78AQEwWzsx/vwBgK52Jpn+/AADF8HKAf78AIFDfiVp/vwDgAjfONH+/AGAUxj8Pf78AYNZB3ul+vwBAZJGpxH6/AID0gqGffr8AQL7kxXp+vwDAEmwWVn6/AOANAJMxfr8AYAFWOw1+vwDACFUP6X2/ACBayw7Ffb8A4CyHOaF9vwCA0j2PfX2/AIBm1g9afb8AgB8fuzZ9vwBgT82QE32/AED24JDwfL8AAGYPu818vwCg8A0Pq3y/AGCW3IyIfL8AwKgwNGZ8vwBAQ/EERHy/AEDTuv4hfL8AgD2mIQB8vwBA709t3nu/AKADn+G8e78AgLFhfpt7vwCAL2ZDenu/AEC0ejBZe78AIHZtRTh7vwDAkCWCF3u/AKA6ceb2er8AoKoectZ6vwBAF/wktnq/ACC31/6Ver8AoKWY/3V6vwCANPQmVnq/AGB/0XQ2er8AgKEX6RZ6vwAACGOD93m/AACYzEPYeb8AYL7wKbl5vwBglrY1mnm/AKA7BWd7eb8A4P+RvVx5vwCg/kM5Pnm/AABTAtofeb8AYGppnwF5vwCgKZKJ43i/AIDiMZjFeL8AoMsWy6d4vwAAHA8iini/ACDTGp1seL8AIEPvO094vwDgolr+MXi/AADyXOQUeL8A4IKr7fd3vwCAcC0a23e/ACANmGm+d78AoFjr26F3vwCgifVwhXe/AGC7nShpd78AQFuAAk13vwAATrb+MHe/AGDl9BwVd78A4DwjXfl2vwBgiw+/3Xa/AAAHiELCdr8AALCM56Z2vwCA2NKti3a/AICbQZVwdr8AADCnnVV2vwDglQPHOna/ACA68xAgdr8AIB12ewV2vwAAWnMG63W/AABDoLHQdb8A4PLjfLZ1vwCghSVonHW/AKAxM3OCdb8AABL0nWh1vwCAXTboTnW/AIAv4VE1db8AQNqp2ht1vwDgQamCAnW/AKC4lEnpdL8AAFpTL9B0vwBgXLMzt3S/ACDbm1aedL8AAA3bl4V0vwDg8XD3bHS/AODbEnVUdL8AQOanEDx0vwAgLBfKI3S/AEDJR6ELdL8AIA/vlfNzvwAA/gyo23O/ACCxiNfDc78AwHoXJKxzvwDgdaCNlHO/AOC9ChR9c78AoFJWt2VzvwDgoR93TnO/AGCrZlM3c78AIIoSTCBzvwDgWQphCXO/AEBsA5Lycr8AIN3k3ttyvwAArK5HxXK/AKAPL8yucr8AQCNNbJhyvwBAOb4ngnK/AOA1m/5rcr8A4E+y8FVyvwBg2bj9P3K/AOC2xyUqcr8AIB+taBRyvwCASDfG/nG/AIAzZj7pcb8AgBYI0dNxvwBAKOt9vnG/AIBoD0Wpcb8AwA1DJpRxvwDgM20hf3G/AAD2dDZqcb8AwIooZVVxvwAA8oetQHG/AOB9SA8scb8AABODihdxvwBAA+0eA3G/ACBqbczucL8AYEcEk9pwvwDg0X9yxnC/AGBArmqycL8AIHeoe55wvwDA4wqlinC/AMBq7uZ2cL8AAEMhQWNwvwBgbKOzT3C/AEBUET48cL8AwMOc4ChwvwAADfuaFXC/AIBLE20CcL8AQDSZrd5vvwCA8k2wuG+/AIB1r+GSb78AQIbvQW1vvwBAAEfQR2+/AIB1GY0ib78AQInRd/1uvwDAcz2Q2G6/AMBqK9azbr8AQG6bSY9uvwCA6ynqam6/AABQc7dGbr8AwGSpsSJuvwDAzjbY/m2/AICMGyvbbb8AANYlqrdtvwBAF/JUlG2/AEBRgCtxbb8AQPFsLU5tvwBA9rdaK22/AMDO/bIIbb8AwLAMNuZsvwCAnOTjw2y/AED/IbyhbL8AwA+Tvn9svwBAzTfrXWy/AACmrEE8bL8AQNC/wRpsvwDAgj9r+Wu/AAD0+T3Ya78AACTvObdrvwDAtolelmu/AMB1+6t1a78AgJcSIlVrvwBAwDnANGu/AMC4ooYUa78AgO7pdPRqvwBAmN2K1Gq/AADtS8i0ar8AgOw0LZVqvwDAzGa5dWq/AAD8fWxWar8AALBIRjdqvwDA6cZGGGq/AEDfxm35ab8AQMcWu9ppvwDADlMuvGm/AIC2e8edab8AAPVehn9pvwBAAMtqYWm/AIDYv3RDab8AQCKooyVpvwDApbX3B2m/AEDRhHDqaL8AgKQVDs1ovwAAjQTQr2i/AACKUbaSaL8AQNPKwHVovwBAnj7vWGi/AIAie0E8aL8AAJZOtx9ovwBAMIdQA2i/AIDwJA3nZ78AwA327MpnvwDA9Jbvrme/AECmBxWTZ78AQCJIXXdnvwAADMPHW2e/AEAtqlRAZ78AAPOZAyVnvwCAJ8TUCWe/AICkYcfuZr8AgPzV29NmvwAAZ+8RuWa/AECHGGmeZr8AACeD4YNmvwDAfP16aWa/AAC/VTVPZr8AwCRaEDVmvwDArQoMG2a/AEDHAygBZr8AAKgTZOdlvwAAGmzAzWW/AMCIqTy0Zb8AwCya2JplvwAABT6UgWW/AMBIY29oZb8AwC3YaU9lvwDA62qDNmW/AACCG7wdZb8AQF6GEwVlvwCASd2J7GS/AACxvB7UZL8AgMvy0btkvwBAmX+jo2S/AMBQMZOLZL8AwPEHoXNkvwBA6p/MW2S/AEA5+RVEZL8AABbifCxkvwAAtygBFWS/AIAczaL9Y78AgHydYeZjvwDADmg9z2O/AEAJ+zW4Y78AwDSIS6FjvwBANnp9imO/AEDWAsxzY78AAIO+Nl1jvwCABN+9RmO/AAAAz2AwY78AAD7AHxpjvwBAv7L6A2O/AEAnEfHtYr8AwD4NA9hivwDAPXUwwmK/AIBZF3msYr8AAMrB3JZivwAAjnRbgWK/AICmL/VrYr8AAICPqVZivwCAUWJ4QWK/AMDk2WEsYr8AgG/EZRdivwAAYL6DAmK/AAB/+bvtYb8AADoSDtlhvwDAkAh6xGG/AMCD3P+vYb8AwH8qn5thvwDAhPJXh2G/AECTNCpzYb8AQBiNFV9hvwBA3S0aS2G/AIBPszc3Yb8AwG4dbiNhvwAAO2y9D2G/AEAiPCX8YL8AwCONpehgvwCAP18+1WC/AEDjTu/BYL8AwNeNuK5gvwAAi7iZm2C/AEDGAJOIYL8AAPYCpHVgvwCAG7/MYmC/AABsAw1QYL8AgOjPZD1gvwAAkSTUKmC/AIAIbFoYYL8AwOIJ+AVgvwCAGTVZ51+/AAAMPPDCX78AgJ4otZ5fvwCAqzOnel+/AIAwXcZWX78AgDGlEjNfvwAAGKiLD1+/AIBTAjHsXr8AgOSzAslevwCAyLwApl6/AIDcVSqDXr8AgLHif2BevwCAI5wAPl6/AIDE5awbXr8AgG74g/ldvwCAtTeG112/AIBz3LK1Xb8AgKjmCZRdvwCAU1aLcl2/AADkxzZRXb8AgMXXCzBdvwCA+IUKD12/AAB90jLuXL8AAC72g81cvwCAnVT+rFy/AAA5iqGMXL8AAAGXbWxcvwCAz7NhTFy/AAA3RH4sXL8AgBKBwgxcvwCA9c0u7Vu/AABMx8LNW78AgBdtfq5bvwAAMPhgj1u/AAAqzGpwW78AAHSFm1FbvwCAeMDyMlu/AAA5fXAUW78AgLa7FPZavwAAXBjf11q/AACZL8+5Wr8AgGsB5ZtavwAA1Y0gflq/AABCcYFgWr8AALOrB0NavwAAldmyJVq/AADo+oIIWr8AABmsd+tZvwAAKe2Qzlm/AAAXvs6xWb8AgL5XMJVZvwAAsR22eFm/AIDJSF9cWb8AgC6gLEBZvwAAJvkcJFm/AADYGjEIWb8AAInaZ+xYvwAAz5vB0Fi/AICnXj61WL8AgIG/3ZlYvwCAyVqffli/AIB/MINjWL8AAKRAiUhYvwAAoyexLVi/AIB+5foSWL8AADV6ZvhXvwCAoR7z3Ve/AIBWNqHDV78AgMFdcKlXvwCA4pRgj1e/AAAneHF1V78AgI4Ho1tXvwCAh9/0QVe/AACjY2coV78AALzM+Q5XvwAAZn6s9Va/AIB7sX7cVr8AAI/JcMNWvwCADGOCqla/AAD2fbORVr8AgLi2A3lWvwCAUw1zYFa/AAAzHgFIVr8AAOxMri9WvwAAWNJ5F1a/AAAKEmT/Vb8AgNtEbOdVvwCAYM6Sz1W/AACZrte3Vb8AAF4eOqBVvwCARIG6iFW/AIC3c1hxVb8AALn1E1pVvwCAtaPsQlW/AACtfeIrVb8AgAwg9RRVvwAAZ+4k/lS/AAAphXHnVL8AAMGA2tBUvwAAwkRgulS/AAAFCgKkVL8AgB40wI1UvwAAeV+ad1S/AIAYjJBhVL8AgGZWoktUvwCAZb7PNVS/AIAUxBggVL8AAHNnfQpUvwCAXOH89FO/AIBjlZffU78AgIeDTcpTvwAApeQdtVO/AIBLHAmgU78AgH0qD4tTvwAAFUgvdlO/AACk2GlhU78AACvcvkxTvwAAhYstOFO/AIDXrbYjU78AAGgYWQ9TvwAAYJIV+1K/AICWVOvmUr8AAKDC2tJSvwCA6XjjvlK/AIBydwWrUr8AAKlaQJdSvwCAjCKUg1K/AIAdzwBwUr8AgMj8hVxSvwCAIA8kSVK/AACUoto1Ur8AgI5TqSJSvwAAESKQD1K/AACucY/8Ub8AgD97pulRvwCAxj7V1lG/AIDVHxzEUb8AAEdXerFRvwCArEjwnlG/AIB1kH2MUb8AAKAuInpRvwCAmr/dZ1G/AID3prBVUb8AgJEdmkNRvwCAjeqaMVG/AIDGRrIfUb8AgD0y4A1RvwCA8Kwk/FC/AIBNU3/qUL8AAOiI8NhQvwCALOp3x1C/AICIExW2UL8AAI5oyKRQvwAArIWRk1C/AADianCCUL8AgC4YZXFQvwCAACpvYFC/AIBWoI5PUL8AADJ7wz5QvwAAAFcNLlC/AABRl2wdUL8AgJbY4AxQvwAAdG7T+E+/AACgLQ/YT78AALDudLdPvwAAWSMDl0+/AADBkrp2T78AAMR1mlZPvwAAg5OjNk+/AAC4XdQWT78AAIebLfdOvwAA7kyv106/AADJqli4Tr8AAPPtKJlOvwAAuKQhek6/AACjeUBbTr8AAAT7hjxOvwAAs2H0HU6/AACxrYj/Tb8AANgXQ+FNvwAAJ6Ajw02/AACiRiqlTb8AAEULV4dNvwAAEO6paU2/AAC5YCFMTb8AAIzxvi5NvwAAY9mBEU2/AAAaUWn0TL8AAKxYdddMvwAAH/Cluky/AABvF/udTL8AAJ/OdIFMvwAAh04SZUy/AABMXtRITL8AAKZvuSxMvwAAuUnCEEy/AABeJe70S78AAL3JPdlLvwAAsW+wvUu/AAARUEWiS78AACz5/YZLvwAAjRXYa0u/AACEM9VQS78AAMLE8zVLvwAAlFc1G0u/AACvXZgAS78AABLXHOZKvwAAvsPCy0q/AACzI4qxSr8AAPL2cpdKvwAAU3Z8fUq/AADXoaZjSr8AAKNA8klKvwAAcMRdMEq/AABd9OkWSr8AAG7Qlv1JvwAAWMpi5Em/AABmcE/LSb8AAEs0W7JJvwAAMN2GmUm/AADqo9GASb8AAKZPPGhJvwAAOBnGT0m/AAB8OW43Sb8AAJx3NR9JvwAAktMbB0m/AAAWvx/vSL8AAHPIQtdIvwAAgSiEv0i/AAAfGOOnSL8AAHBeYJBIvwAATzT7eEi/AAC6mbNhSL8AALSOiUpIvwAAOhN9M0i/AAApYI0cSL8AAIF1ugVIvwAAZRoF70e/AACzh2zYR78AAET278FHvwAAPC2Qq0e/AACcLE2VR78AAEAtJn9HvwAAJy8baUe/AABQMixTR78AAJdvWD1HvwAAH66gJ0e/AADr7QQSR78AAK+gg/xGvwAAt1Qe50a/AAC2e9PRRr8AAPijpLxGvwAADHiPp0a/AAA+hpWSRr8AAI3Otn1GvwAAsMLxaEa/AADJKUdURr8AANwDtz9GvwAAwYlAK0a/AAB2u+MWRr8AACdgoQJGvwAAqLB47kW/AADX5WjaRb8AAP2Nc8ZFvwAA0RqXskW/AABUjNOeRb8AAIHiKItFvwAAgeSXd0W/AAALBB9kRb8AAEAIv1BFvwAAJPF3PUW/AACP90gqRb8AAIEbMhdFvwAA+1wzBEW/AAAkg03xRL8AAK7/ft5EvwAAv5nIy0S/AAAziim5RL8AAC6YoqZEvwAAjfwylES/AABNt9qBRL8AAEsBmW9EvwAA0GhvXUS/AACTX1xLRL8AALesYDlEvwAAGYl7J0S/AAC39KwVRL8AAJLv9ANEvwAAq3lT8kO/AAAAk8jgQ78AAJI7VM9DvwAAPKz1vUO/AAD95KysQ78AANfleZtDvwAA7HVdikO/AAD0BlZ5Q78AABVgZGhDvwAASoGIV0O/AAB1o8FGQ78AALSNEDZDvwAA53h0JUO/AAANZe0UQ78AACRSewRDvwAABnkd9EK/AAAAaNXjQr8AAMqQodNCvwAAXvOBw0K/AADlVnezQr8AADj0gKNCvwAAMwSek0K/AAAgFdCDQr8AANpfFnRCvwAAOh1wZEK/AABoFN5UQr8AAD9+X0VCvwAAulr0NUK/AAACcZ0mQr8AAPL5WRdCvwAAZC4pCEK/AACjnAz5Qb8AAGS2AupBvwAApnsL20G/AACQsyfMQb8AAPyWVr1BvwAAD+2YrkG/AAB/J+2fQb8AAJXUVJFBvwAACGbOgkG/AAD/olp0Qb8AAFDE+GVBvwAAIpGpV0G/AABTQmxJQb8AAAafQTtBvwAAE+AoLUG/AABZPiEfQb8AACBILBFBvwAAHm9IA0G/AAB5enb1QL8AADFqtudAvwAAIHcH2kC/AABqaGrMQL8AAMav3b5AvwAAfttisUC/AABvJPmjQL8AAHDDn5ZAvwAA0EZYiUC/AAA+ICF8QL8AAMBP+m5AvwAAnmPlYUC/AABoBuBUQL8AAGnG60dAvwAAfNwHO0C/AAChSDQuQL8AANcKcSFAvwAA+lu9FEC/AABSyhoIQL8AADSPD/c/vwAAlKcI3j+/AABm+iPFP78AAMjcXKw/vwAASmu2kz+/AABciS17P78AAI5TxWI/vwAAmjt8Sj+/AAA2s1AyP78AAPLWRRo/vwAAPIpYAj+/AAAUzYjqPr8AAMQt2NI+vwAABh5Fuz6/AAAeLNGjPr8AAHg7eYw+vwAAqGhAdT6/AABqJSVePr8AAG7jJUc+vwAA/jBEMD6/AAAcDoAZPr8AAMh62QI+vwAAtuhO7D2/AAA05uHVPb8AAPTkkL89vwAA9ORbqT2/AAA45kKTPb8AAMLoRX09vwAAiuxkZz2/AACW8Z9RPb8AAOj39js9vwAAev9pJj2/AAAGevcQPb8AANT1oPs8vwAAmORk5jy/AABaRkPRPL8AAFipPbw8vwAAUH9Spzy/AABAyIGSPL8AACqEy308vwAADLMvaTy/AACaxqxUPL8AAGrbRUA8vwAA6NT3Kzy/AABcQcQXPL8AAICSqQM8vwAAmlap7zu/AABm/8HbO78AANiM88c7vwAASI0/tDu/AAAW5KKgO78AAOCtII07vwAACs61eTu/AAAsYWVmO78AALBKLFM7vwAA4hgMQDu/AADCywQtO78AAALVFBo7vwAApDQ8Bzu/AAD4eHz0Or8AAPSh1eE6vwAACJNEzzq/AADMaMy8Or8AAPSUa6o6vwAAehcimDq/AAAYYu6FOr8AAGSR03M6vwAAxojOYTq/AADYZOJPOr8AAAIJDD46vwAAQnVLLDq/AADiN6IaOr8AAJzCDgk6vwAAuqOS9zm/AADqTCzmOb8AADi+29Q5vwAA5IWiwzm/AABgh32yOb8AADzfb6E5vwAA5nB2kDm/AADuWJR/Ob8AAMh6xm45vwAAuGQOXjm/AAB4iGpNOb8AAEp03Dw5vwAANihkLDm/AADsFQAcOb8AAL7LsQs5vwAAWLt3+zi/AADG5FHrOL8AAPxHQNs4vwAASHNEyzi/AAAWSlu7OL8AAP7oh6s4vwAAZjPHmzi/AADmRRyMOL8AAOgDhHw4vwAAuvv/bDi/AABWLZBdOL8AAHIKM044vwAAXiHqPji/AADK47MvOL8AAADgkSA4vwAAvIeCETi/AABEaYcCOL8AAAJonfM3vwAAkKDH5De/AACYhATWN78AACgUVMc3vwAAht23uDe/AAAYxCyqN78AACxWtJs3vwAAxJNOjTe/AACQ7vl+N78AAC6DuXA3vwAA/DSKYje/AAAEBGxUN78AAI5+YEY3vwAAmqRnODe/AADg538qN78AAKTWqhw3vwAAVFTlDje/AACIfTIBN78AAD5SkvM2vwAA4LUB5ja/AAAExYPYNr8AABJjFcs2vwAAoqy5vTa/AAAkhW2wNr8AANZ6MqM2vwAADhwKlja/AADkve+INr8AADwL6Hs2vwAAhOfvbja/AAAC4QhiNr8AALb3MlU2vwAAWJ1sSDa/AADk0bU7Nr8AAKYjEC82vwAAWAR6Ija/AABAAvUVNr8AAMoAfgk2vwAAihwY/TW/AAAyx8HwNb8AABaPfOQ1vwAAnFdF2DW/AAAKrx3MNb8AAGqVBcA1vwAArgr9szW/AADmDgSoNb8AAAiiGpw1vwAAyjU/kDW/AADE5nSENb8AABQKt3g1vwAAnkoKbTW/AADGi2thNb8AAJLN2lU1vwAASJ5ZSjW/AADq/ec+Nb8AAOTPgjM1vwAAyDAtKDW/AACaIOccNb8AAMSCrRE1vwAA2HODBjW/AACOZWf7NL8AAOZXWfA0vwAA3kpZ5TS/AAB4PmfaNL8AALYyg880vwAAkietxDS/AAASHeW5NL8=\"},\"shape\":[2401],\"dtype\":\"float64\",\"order\":\"little\"}]]}}},\"view\":{\"type\":\"object\",\"name\":\"CDSView\",\"id\":\"p3029\",\"attributes\":{\"filter\":{\"type\":\"object\",\"name\":\"AllIndices\",\"id\":\"p3030\"}}},\"glyph\":{\"type\":\"object\",\"name\":\"Line\",\"id\":\"p3025\",\"attributes\":{\"x\":{\"type\":\"field\",\"field\":\"x\"},\"y\":{\"type\":\"field\",\"field\":\"y\"},\"line_color\":\"#1f77b4\",\"line_width\":2}},\"nonselection_glyph\":{\"type\":\"object\",\"name\":\"Line\",\"id\":\"p3026\",\"attributes\":{\"x\":{\"type\":\"field\",\"field\":\"x\"},\"y\":{\"type\":\"field\",\"field\":\"y\"},\"line_color\":\"#1f77b4\",\"line_alpha\":0.1,\"line_width\":2}},\"muted_glyph\":{\"type\":\"object\",\"name\":\"Line\",\"id\":\"p3027\",\"attributes\":{\"x\":{\"type\":\"field\",\"field\":\"x\"},\"y\":{\"type\":\"field\",\"field\":\"y\"},\"line_color\":\"#1f77b4\",\"line_alpha\":0.2,\"line_width\":2}}}}],\"toolbar\":{\"type\":\"object\",\"name\":\"Toolbar\",\"id\":\"p2979\",\"attributes\":{\"tools\":[{\"type\":\"object\",\"name\":\"PanTool\",\"id\":\"p3007\"},{\"type\":\"object\",\"name\":\"WheelZoomTool\",\"id\":\"p3008\"},{\"type\":\"object\",\"name\":\"BoxZoomTool\",\"id\":\"p3009\",\"attributes\":{\"overlay\":{\"type\":\"object\",\"name\":\"BoxAnnotation\",\"id\":\"p3010\",\"attributes\":{\"syncable\":false,\"level\":\"overlay\",\"visible\":false,\"left_units\":\"canvas\",\"right_units\":\"canvas\",\"bottom_units\":\"canvas\",\"top_units\":\"canvas\",\"line_color\":\"black\",\"line_alpha\":1.0,\"line_width\":2,\"line_dash\":[4,4],\"fill_color\":\"lightgrey\",\"fill_alpha\":0.5}}}},{\"type\":\"object\",\"name\":\"SaveTool\",\"id\":\"p3011\"},{\"type\":\"object\",\"name\":\"ResetTool\",\"id\":\"p3012\"},{\"type\":\"object\",\"name\":\"HelpTool\",\"id\":\"p3013\"}]}},\"left\":[{\"type\":\"object\",\"name\":\"LinearAxis\",\"id\":\"p3000\",\"attributes\":{\"ticker\":{\"type\":\"object\",\"name\":\"BasicTicker\",\"id\":\"p3001\",\"attributes\":{\"mantissas\":[1,2,5]}},\"formatter\":{\"type\":\"object\",\"name\":\"BasicTickFormatter\",\"id\":\"p3002\"},\"axis_label\":\"v (mV)\",\"major_label_policy\":{\"type\":\"object\",\"name\":\"AllLabels\",\"id\":\"p3003\"}}}],\"below\":[{\"type\":\"object\",\"name\":\"LinearAxis\",\"id\":\"p2993\",\"attributes\":{\"ticker\":{\"type\":\"object\",\"name\":\"BasicTicker\",\"id\":\"p2994\",\"attributes\":{\"mantissas\":[1,2,5]}},\"formatter\":{\"type\":\"object\",\"name\":\"BasicTickFormatter\",\"id\":\"p2995\"},\"axis_label\":\"t (ms)\",\"major_label_policy\":{\"type\":\"object\",\"name\":\"AllLabels\",\"id\":\"p2996\"}}}],\"center\":[{\"type\":\"object\",\"name\":\"Grid\",\"id\":\"p2999\",\"attributes\":{\"axis\":{\"id\":\"p2993\"}}},{\"type\":\"object\",\"name\":\"Grid\",\"id\":\"p3006\",\"attributes\":{\"dimension\":1,\"axis\":{\"id\":\"p3000\"}}}]}}]}};\n",
       "  const render_items = [{\"docid\":\"b989c916-ccf8-4088-a40d-811cb8175e88\",\"roots\":{\"p2976\":\"f18e8881-61bf-4d90-9b99-7637b389ca23\"},\"root_ids\":[\"p2976\"]}];\n",
       "  root.Bokeh.embed.embed_items_notebook(docs_json, render_items);\n",
       "  }\n",
       "  if (root.Bokeh !== undefined) {\n",
       "    embed_document(root);\n",
       "  } else {\n",
       "    let attempts = 0;\n",
       "    const timer = setInterval(function(root) {\n",
       "      if (root.Bokeh !== undefined) {\n",
       "        clearInterval(timer);\n",
       "        embed_document(root);\n",
       "      } else {\n",
       "        attempts++;\n",
       "        if (attempts > 100) {\n",
       "          clearInterval(timer);\n",
       "          console.log(\"Bokeh: ERROR: Unable to run BokehJS code because BokehJS library is missing\");\n",
       "        }\n",
       "      }\n",
       "    }, 10, root)\n",
       "  }\n",
       "})(window);"
      ],
      "application/vnd.bokehjs_exec.v0+json": ""
     },
     "metadata": {
      "application/vnd.bokehjs_exec.v0+json": {
       "id": "p2976"
      }
     },
     "output_type": "display_data"
    }
   ],
   "source": [
    "f = plt.figure(x_axis_label=\"t (ms)\", y_axis_label=\"v (mV)\")\n",
    "f.line(np.array(t), np.array(vc_current), line_width=2)\n",
    "f.x_range = DataRange1d(start = 9, end = 50)\n",
    "f.y_range = DataRange1d(start = -0.25, end = 0)\n",
    "plt.show(f)"
   ]
  },
  {
   "cell_type": "code",
   "execution_count": 34,
   "id": "16528b5b",
   "metadata": {},
   "outputs": [
    {
     "data": {
      "text/plain": [
       "['single-input-dendrite-685.svg']"
      ]
     },
     "execution_count": 34,
     "metadata": {},
     "output_type": "execute_result"
    }
   ],
   "source": [
    "# save as SVG\n",
    "f.output_backend = \"svg\"\n",
    "export_svg(f, filename=\"single-input-dendrite-685.svg\")"
   ]
  },
  {
   "cell_type": "code",
   "execution_count": null,
   "id": "505b4db9",
   "metadata": {
    "scrolled": false
   },
   "outputs": [],
   "source": [
    "syn2 = syns['dendrite[48]']"
   ]
  },
  {
   "cell_type": "code",
   "execution_count": null,
   "id": "f8a58de1",
   "metadata": {},
   "outputs": [],
   "source": [
    "#syn.set_stim(ps = ps, weight = 0, tau=5, interval = 0, number = 1)\n",
    "h.restoreState()\n",
    "#syn.set_stim(ps = ps, weight = .0018, tau=5, interval = 0, number = 1)\n",
    "syn2.set_stim(ps = ps, weight = .0018, tau=5, interval = 0, number = 1)\n",
    "h.finitialize()\n",
    "h.continuerun(60 * ms)"
   ]
  },
  {
   "cell_type": "code",
   "execution_count": null,
   "id": "52f387c9",
   "metadata": {},
   "outputs": [],
   "source": [
    "h.steady_state.save()\n",
    "h('state_fobj = new File(\"state-neuron-act+elec+ext-axon-2piece-chans-ext-axon-70um-sim-synapses.bin\")')\n",
    "h.steady_state.fwrite(h.state_fobj)"
   ]
  },
  {
   "cell_type": "code",
   "execution_count": null,
   "id": "2e1dcc4f",
   "metadata": {},
   "outputs": [],
   "source": [
    "syns"
   ]
  },
  {
   "cell_type": "code",
   "execution_count": 10,
   "id": "47f61bd9",
   "metadata": {
    "scrolled": true
   },
   "outputs": [
    {
     "data": {
      "text/html": [
       "\n",
       "  <div id=\"1c344cf7-0a76-41ee-8751-f7b46e53e9ae\" data-root-id=\"p1002\" style=\"display: contents;\"></div>\n"
      ]
     },
     "metadata": {},
     "output_type": "display_data"
    },
    {
     "data": {
      "application/javascript": [
       "(function(root) {\n",
       "  function embed_document(root) {\n",
       "  const docs_json = {\"1c06eeb1-91fd-48c2-87a4-c4c1bc8ace69\":{\"version\":\"3.0.1\",\"title\":\"Bokeh Application\",\"defs\":[],\"roots\":[{\"type\":\"object\",\"name\":\"Figure\",\"id\":\"p1002\",\"attributes\":{\"x_range\":{\"type\":\"object\",\"name\":\"DataRange1d\",\"id\":\"p1004\"},\"y_range\":{\"type\":\"object\",\"name\":\"DataRange1d\",\"id\":\"p1003\"},\"x_scale\":{\"type\":\"object\",\"name\":\"LinearScale\",\"id\":\"p1015\"},\"y_scale\":{\"type\":\"object\",\"name\":\"LinearScale\",\"id\":\"p1017\"},\"title\":{\"type\":\"object\",\"name\":\"Title\",\"id\":\"p1009\"},\"renderers\":[{\"type\":\"object\",\"name\":\"GlyphRenderer\",\"id\":\"p1054\",\"attributes\":{\"data_source\":{\"type\":\"object\",\"name\":\"ColumnDataSource\",\"id\":\"p1048\",\"attributes\":{\"selected\":{\"type\":\"object\",\"name\":\"Selection\",\"id\":\"p1049\",\"attributes\":{\"indices\":[],\"line_indices\":[]}},\"selection_policy\":{\"type\":\"object\",\"name\":\"UnionRenderers\",\"id\":\"p1050\"},\"data\":{\"type\":\"map\",\"entries\":[[\"x\",{\"type\":\"ndarray\",\"array\":{\"type\":\"bytes\",\"data\":\"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\"},\"shape\":[2401],\"dtype\":\"float64\",\"order\":\"little\"}],[\"y\",{\"type\":\"ndarray\",\"array\":{\"type\":\"bytes\",\"data\":\"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\"},\"shape\":[2401],\"dtype\":\"float64\",\"order\":\"little\"}]]}}},\"view\":{\"type\":\"object\",\"name\":\"CDSView\",\"id\":\"p1055\",\"attributes\":{\"filter\":{\"type\":\"object\",\"name\":\"AllIndices\",\"id\":\"p1056\"}}},\"glyph\":{\"type\":\"object\",\"name\":\"Line\",\"id\":\"p1051\",\"attributes\":{\"x\":{\"type\":\"field\",\"field\":\"x\"},\"y\":{\"type\":\"field\",\"field\":\"y\"},\"line_color\":\"#1f77b4\",\"line_width\":2}},\"nonselection_glyph\":{\"type\":\"object\",\"name\":\"Line\",\"id\":\"p1052\",\"attributes\":{\"x\":{\"type\":\"field\",\"field\":\"x\"},\"y\":{\"type\":\"field\",\"field\":\"y\"},\"line_color\":\"#1f77b4\",\"line_alpha\":0.1,\"line_width\":2}},\"muted_glyph\":{\"type\":\"object\",\"name\":\"Line\",\"id\":\"p1053\",\"attributes\":{\"x\":{\"type\":\"field\",\"field\":\"x\"},\"y\":{\"type\":\"field\",\"field\":\"y\"},\"line_color\":\"#1f77b4\",\"line_alpha\":0.2,\"line_width\":2}}}}],\"toolbar\":{\"type\":\"object\",\"name\":\"Toolbar\",\"id\":\"p1005\",\"attributes\":{\"tools\":[{\"type\":\"object\",\"name\":\"PanTool\",\"id\":\"p1033\"},{\"type\":\"object\",\"name\":\"WheelZoomTool\",\"id\":\"p1034\"},{\"type\":\"object\",\"name\":\"BoxZoomTool\",\"id\":\"p1035\",\"attributes\":{\"overlay\":{\"type\":\"object\",\"name\":\"BoxAnnotation\",\"id\":\"p1036\",\"attributes\":{\"syncable\":false,\"level\":\"overlay\",\"visible\":false,\"left_units\":\"canvas\",\"right_units\":\"canvas\",\"bottom_units\":\"canvas\",\"top_units\":\"canvas\",\"line_color\":\"black\",\"line_alpha\":1.0,\"line_width\":2,\"line_dash\":[4,4],\"fill_color\":\"lightgrey\",\"fill_alpha\":0.5}}}},{\"type\":\"object\",\"name\":\"SaveTool\",\"id\":\"p1037\"},{\"type\":\"object\",\"name\":\"ResetTool\",\"id\":\"p1038\"},{\"type\":\"object\",\"name\":\"HelpTool\",\"id\":\"p1039\"}]}},\"left\":[{\"type\":\"object\",\"name\":\"LinearAxis\",\"id\":\"p1026\",\"attributes\":{\"ticker\":{\"type\":\"object\",\"name\":\"BasicTicker\",\"id\":\"p1027\",\"attributes\":{\"mantissas\":[1,2,5]}},\"formatter\":{\"type\":\"object\",\"name\":\"BasicTickFormatter\",\"id\":\"p1028\"},\"axis_label\":\"v (mV)\",\"major_label_policy\":{\"type\":\"object\",\"name\":\"AllLabels\",\"id\":\"p1029\"}}}],\"below\":[{\"type\":\"object\",\"name\":\"LinearAxis\",\"id\":\"p1019\",\"attributes\":{\"ticker\":{\"type\":\"object\",\"name\":\"BasicTicker\",\"id\":\"p1020\",\"attributes\":{\"mantissas\":[1,2,5]}},\"formatter\":{\"type\":\"object\",\"name\":\"BasicTickFormatter\",\"id\":\"p1021\"},\"axis_label\":\"t (ms)\",\"major_label_policy\":{\"type\":\"object\",\"name\":\"AllLabels\",\"id\":\"p1022\"}}}],\"center\":[{\"type\":\"object\",\"name\":\"Grid\",\"id\":\"p1025\",\"attributes\":{\"axis\":{\"id\":\"p1019\"}}},{\"type\":\"object\",\"name\":\"Grid\",\"id\":\"p1032\",\"attributes\":{\"dimension\":1,\"axis\":{\"id\":\"p1026\"}}}]}}]}};\n",
       "  const render_items = [{\"docid\":\"1c06eeb1-91fd-48c2-87a4-c4c1bc8ace69\",\"roots\":{\"p1002\":\"1c344cf7-0a76-41ee-8751-f7b46e53e9ae\"},\"root_ids\":[\"p1002\"]}];\n",
       "  root.Bokeh.embed.embed_items_notebook(docs_json, render_items);\n",
       "  }\n",
       "  if (root.Bokeh !== undefined) {\n",
       "    embed_document(root);\n",
       "  } else {\n",
       "    let attempts = 0;\n",
       "    const timer = setInterval(function(root) {\n",
       "      if (root.Bokeh !== undefined) {\n",
       "        clearInterval(timer);\n",
       "        embed_document(root);\n",
       "      } else {\n",
       "        attempts++;\n",
       "        if (attempts > 100) {\n",
       "          clearInterval(timer);\n",
       "          console.log(\"Bokeh: ERROR: Unable to run BokehJS code because BokehJS library is missing\");\n",
       "        }\n",
       "      }\n",
       "    }, 10, root)\n",
       "  }\n",
       "})(window);"
      ],
      "application/vnd.bokehjs_exec.v0+json": ""
     },
     "metadata": {
      "application/vnd.bokehjs_exec.v0+json": {
       "id": "p1002"
      }
     },
     "output_type": "display_data"
    }
   ],
   "source": [
    "f = plt.figure(x_axis_label=\"t (ms)\", y_axis_label=\"v (mV)\")\n",
    "f.line(np.array(t), np.array(v), line_width=2)\n",
    "plt.show(f)"
   ]
  },
  {
   "cell_type": "markdown",
   "id": "8048778f",
   "metadata": {},
   "source": [
    "### Save as SVG (requires installing selenium)"
   ]
  },
  {
   "cell_type": "code",
   "execution_count": 15,
   "id": "0739c121",
   "metadata": {},
   "outputs": [
    {
     "data": {
      "text/plain": [
       "['plot.svg']"
      ]
     },
     "execution_count": 15,
     "metadata": {},
     "output_type": "execute_result"
    }
   ],
   "source": []
  },
  {
   "cell_type": "markdown",
   "id": "275b50fa",
   "metadata": {},
   "source": [
    "## To Do\n",
    "- Switch to jupyter graphs since I can't reset the Interviews graphs with continuerun()"
   ]
  },
  {
   "cell_type": "code",
   "execution_count": 25,
   "id": "c744e432",
   "metadata": {},
   "outputs": [
    {
     "data": {
      "text/html": [
       "<div style=\"display: table;\"><div style=\"display: table-row;\"><div style=\"display: table-cell;\"><b title=\"bokeh.models.ranges.DataRange1d\">DataRange1d</b>(</div><div style=\"display: table-cell;\">id&nbsp;=&nbsp;'p1913', <span id=\"p2084\" style=\"cursor: pointer;\">&hellip;)</span></div></div><div class=\"p2083\" style=\"display: none;\"><div style=\"display: table-cell;\"></div><div style=\"display: table-cell;\">bounds&nbsp;=&nbsp;None,</div></div><div class=\"p2083\" style=\"display: none;\"><div style=\"display: table-cell;\"></div><div style=\"display: table-cell;\">default_span&nbsp;=&nbsp;2.0,</div></div><div class=\"p2083\" style=\"display: none;\"><div style=\"display: table-cell;\"></div><div style=\"display: table-cell;\">end&nbsp;=&nbsp;nan,</div></div><div class=\"p2083\" style=\"display: none;\"><div style=\"display: table-cell;\"></div><div style=\"display: table-cell;\">flipped&nbsp;=&nbsp;False,</div></div><div class=\"p2083\" style=\"display: none;\"><div style=\"display: table-cell;\"></div><div style=\"display: table-cell;\">follow&nbsp;=&nbsp;None,</div></div><div class=\"p2083\" style=\"display: none;\"><div style=\"display: table-cell;\"></div><div style=\"display: table-cell;\">follow_interval&nbsp;=&nbsp;None,</div></div><div class=\"p2083\" style=\"display: none;\"><div style=\"display: table-cell;\"></div><div style=\"display: table-cell;\">js_event_callbacks&nbsp;=&nbsp;{},</div></div><div class=\"p2083\" style=\"display: none;\"><div style=\"display: table-cell;\"></div><div style=\"display: table-cell;\">js_property_callbacks&nbsp;=&nbsp;{},</div></div><div class=\"p2083\" style=\"display: none;\"><div style=\"display: table-cell;\"></div><div style=\"display: table-cell;\">max_interval&nbsp;=&nbsp;None,</div></div><div class=\"p2083\" style=\"display: none;\"><div style=\"display: table-cell;\"></div><div style=\"display: table-cell;\">min_interval&nbsp;=&nbsp;None,</div></div><div class=\"p2083\" style=\"display: none;\"><div style=\"display: table-cell;\"></div><div style=\"display: table-cell;\">name&nbsp;=&nbsp;None,</div></div><div class=\"p2083\" style=\"display: none;\"><div style=\"display: table-cell;\"></div><div style=\"display: table-cell;\">only_visible&nbsp;=&nbsp;False,</div></div><div class=\"p2083\" style=\"display: none;\"><div style=\"display: table-cell;\"></div><div style=\"display: table-cell;\">range_padding&nbsp;=&nbsp;0.1,</div></div><div class=\"p2083\" style=\"display: none;\"><div style=\"display: table-cell;\"></div><div style=\"display: table-cell;\">range_padding_units&nbsp;=&nbsp;'percent',</div></div><div class=\"p2083\" style=\"display: none;\"><div style=\"display: table-cell;\"></div><div style=\"display: table-cell;\">renderers&nbsp;=&nbsp;[],</div></div><div class=\"p2083\" style=\"display: none;\"><div style=\"display: table-cell;\"></div><div style=\"display: table-cell;\">start&nbsp;=&nbsp;nan,</div></div><div class=\"p2083\" style=\"display: none;\"><div style=\"display: table-cell;\"></div><div style=\"display: table-cell;\">subscribed_events&nbsp;=&nbsp;PropertyValueSet(),</div></div><div class=\"p2083\" style=\"display: none;\"><div style=\"display: table-cell;\"></div><div style=\"display: table-cell;\">syncable&nbsp;=&nbsp;True,</div></div><div class=\"p2083\" style=\"display: none;\"><div style=\"display: table-cell;\"></div><div style=\"display: table-cell;\">tags&nbsp;=&nbsp;[])</div></div></div>\n",
       "<script>\n",
       "(function() {\n",
       "  let expanded = false;\n",
       "  const ellipsis = document.getElementById(\"p2084\");\n",
       "  ellipsis.addEventListener(\"click\", function() {\n",
       "    const rows = document.getElementsByClassName(\"p2083\");\n",
       "    for (let i = 0; i < rows.length; i++) {\n",
       "      const el = rows[i];\n",
       "      el.style.display = expanded ? \"none\" : \"table-row\";\n",
       "    }\n",
       "    ellipsis.innerHTML = expanded ? \"&hellip;)\" : \"&lsaquo;&lsaquo;&lsaquo;\";\n",
       "    expanded = !expanded;\n",
       "  });\n",
       "})();\n",
       "</script>\n"
      ],
      "text/plain": [
       "DataRange1d(id='p1913', ...)"
      ]
     },
     "execution_count": 25,
     "metadata": {},
     "output_type": "execute_result"
    }
   ],
   "source": [
    "f.x_range"
   ]
  },
  {
   "cell_type": "code",
   "execution_count": null,
   "id": "affed950",
   "metadata": {},
   "outputs": [],
   "source": []
  }
 ],
 "metadata": {
  "kernelspec": {
   "display_name": "Python 3 (ipykernel)",
   "language": "python",
   "name": "python3"
  },
  "language_info": {
   "codemirror_mode": {
    "name": "ipython",
    "version": 3
   },
   "file_extension": ".py",
   "mimetype": "text/x-python",
   "name": "python",
   "nbconvert_exporter": "python",
   "pygments_lexer": "ipython3",
   "version": "3.9.7"
  }
 },
 "nbformat": 4,
 "nbformat_minor": 5
}
