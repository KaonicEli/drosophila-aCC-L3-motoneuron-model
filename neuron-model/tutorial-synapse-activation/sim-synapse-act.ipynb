{
 "cells": [
  {
   "cell_type": "markdown",
   "id": "afbb9194",
   "metadata": {},
   "source": [
    "# Simulate synapses onto aCC"
   ]
  },
  {
   "cell_type": "code",
   "execution_count": 1,
   "id": "e376b7dd",
   "metadata": {},
   "outputs": [
    {
     "name": "stderr",
     "output_type": "stream",
     "text": [
      "NEURON: unable to open font \"*helvetica-medium-r-normal*--14*\", using \"fixed\"\n"
     ]
    }
   ],
   "source": [
    "%matplotlib notebook\n",
    "\n",
    "import csv\n",
    "from neuron import h, gui\n",
    "from neuron.units import ms, mV\n",
    "from matplotlib import pyplot"
   ]
  },
  {
   "cell_type": "markdown",
   "id": "dafd1a09",
   "metadata": {},
   "source": [
    "## Import Bokeh for graphs"
   ]
  },
  {
   "cell_type": "code",
   "execution_count": 2,
   "id": "b3fabc8b",
   "metadata": {},
   "outputs": [
    {
     "data": {
      "text/html": [
       "<style>\n",
       "        .bk-notebook-logo {\n",
       "            display: block;\n",
       "            width: 20px;\n",
       "            height: 20px;\n",
       "            background-image: url(data:image/png;base64,iVBORw0KGgoAAAANSUhEUgAAABQAAAAUCAYAAACNiR0NAAAABHNCSVQICAgIfAhkiAAAAAlwSFlzAAALEgAACxIB0t1+/AAAABx0RVh0U29mdHdhcmUAQWRvYmUgRmlyZXdvcmtzIENTNui8sowAAAOkSURBVDiNjZRtaJVlGMd/1/08zzln5zjP1LWcU9N0NkN8m2CYjpgQYQXqSs0I84OLIC0hkEKoPtiH3gmKoiJDU7QpLgoLjLIQCpEsNJ1vqUOdO7ppbuec5+V+rj4ctwzd8IIbbi6u+8f1539dt3A78eXC7QizUF7gyV1fD1Yqg4JWz84yffhm0qkFqBogB9rM8tZdtwVsPUhWhGcFJngGeWrPzHm5oaMmkfEg1usvLFyc8jLRqDOMru7AyC8saQr7GG7f5fvDeH7Ej8CM66nIF+8yngt6HWaKh7k49Soy9nXurCi1o3qUbS3zWfrYeQDTB/Qj6kX6Ybhw4B+bOYoLKCC9H3Nu/leUTZ1JdRWkkn2ldcCamzrcf47KKXdAJllSlxAOkRgyHsGC/zRday5Qld9DyoM4/q/rUoy/CXh3jzOu3bHUVZeU+DEn8FInkPBFlu3+nW3Nw0mk6vCDiWg8CeJaxEwuHS3+z5RgY+YBR6V1Z1nxSOfoaPa4LASWxxdNp+VWTk7+4vzaou8v8PN+xo+KY2xsw6une2frhw05CTYOmQvsEhjhWjn0bmXPjpE1+kplmmkP3suftwTubK9Vq22qKmrBhpY4jvd5afdRA3wGjFAgcnTK2s4hY0/GPNIb0nErGMCRxWOOX64Z8RAC4oCXdklmEvcL8o0BfkNK4lUg9HTl+oPlQxdNo3Mg4Nv175e/1LDGzZen30MEjRUtmXSfiTVu1kK8W4txyV6BMKlbgk3lMwYCiusNy9fVfvvwMxv8Ynl6vxoByANLTWplvuj/nF9m2+PDtt1eiHPBr1oIfhCChQMBw6Aw0UulqTKZdfVvfG7VcfIqLG9bcldL/+pdWTLxLUy8Qq38heUIjh4XlzZxzQm19lLFlr8vdQ97rjZVOLf8nclzckbcD4wxXMidpX30sFd37Fv/GtwwhzhxGVAprjbg0gCAEeIgwCZyTV2Z1REEW8O4py0wsjeloKoMr6iCY6dP92H6Vw/oTyICIthibxjm/DfN9lVz8IqtqKYLUXfoKVMVQVVJOElGjrnnUt9T9wbgp8AyYKaGlqingHZU/uG2NTZSVqwHQTWkx9hxjkpWDaCg6Ckj5qebgBVbT3V3NNXMSiWSDdGV3hrtzla7J+duwPOToIg42ChPQOQjspnSlp1V+Gjdged7+8UN5CRAV7a5EdFNwCjEaBR27b3W890TE7g24NAP/mMDXRWrGoFPQI9ls/MWO2dWFAar/xcOIImbbpA3zgAAAABJRU5ErkJggg==);\n",
       "        }\n",
       "    </style>\n",
       "    <div>\n",
       "        <a href=\"https://bokeh.org\" target=\"_blank\" class=\"bk-notebook-logo\"></a>\n",
       "        <span id=\"p1001\">Loading BokehJS ...</span>\n",
       "    </div>\n"
      ]
     },
     "metadata": {},
     "output_type": "display_data"
    },
    {
     "data": {
      "application/javascript": [
       "(function(root) {\n",
       "  function now() {\n",
       "    return new Date();\n",
       "  }\n",
       "\n",
       "  const force = true;\n",
       "\n",
       "  if (typeof root._bokeh_onload_callbacks === \"undefined\" || force === true) {\n",
       "    root._bokeh_onload_callbacks = [];\n",
       "    root._bokeh_is_loading = undefined;\n",
       "  }\n",
       "\n",
       "const JS_MIME_TYPE = 'application/javascript';\n",
       "  const HTML_MIME_TYPE = 'text/html';\n",
       "  const EXEC_MIME_TYPE = 'application/vnd.bokehjs_exec.v0+json';\n",
       "  const CLASS_NAME = 'output_bokeh rendered_html';\n",
       "\n",
       "  /**\n",
       "   * Render data to the DOM node\n",
       "   */\n",
       "  function render(props, node) {\n",
       "    const script = document.createElement(\"script\");\n",
       "    node.appendChild(script);\n",
       "  }\n",
       "\n",
       "  /**\n",
       "   * Handle when an output is cleared or removed\n",
       "   */\n",
       "  function handleClearOutput(event, handle) {\n",
       "    const cell = handle.cell;\n",
       "\n",
       "    const id = cell.output_area._bokeh_element_id;\n",
       "    const server_id = cell.output_area._bokeh_server_id;\n",
       "    // Clean up Bokeh references\n",
       "    if (id != null && id in Bokeh.index) {\n",
       "      Bokeh.index[id].model.document.clear();\n",
       "      delete Bokeh.index[id];\n",
       "    }\n",
       "\n",
       "    if (server_id !== undefined) {\n",
       "      // Clean up Bokeh references\n",
       "      const cmd_clean = \"from bokeh.io.state import curstate; print(curstate().uuid_to_server['\" + server_id + \"'].get_sessions()[0].document.roots[0]._id)\";\n",
       "      cell.notebook.kernel.execute(cmd_clean, {\n",
       "        iopub: {\n",
       "          output: function(msg) {\n",
       "            const id = msg.content.text.trim();\n",
       "            if (id in Bokeh.index) {\n",
       "              Bokeh.index[id].model.document.clear();\n",
       "              delete Bokeh.index[id];\n",
       "            }\n",
       "          }\n",
       "        }\n",
       "      });\n",
       "      // Destroy server and session\n",
       "      const cmd_destroy = \"import bokeh.io.notebook as ion; ion.destroy_server('\" + server_id + \"')\";\n",
       "      cell.notebook.kernel.execute(cmd_destroy);\n",
       "    }\n",
       "  }\n",
       "\n",
       "  /**\n",
       "   * Handle when a new output is added\n",
       "   */\n",
       "  function handleAddOutput(event, handle) {\n",
       "    const output_area = handle.output_area;\n",
       "    const output = handle.output;\n",
       "\n",
       "    // limit handleAddOutput to display_data with EXEC_MIME_TYPE content only\n",
       "    if ((output.output_type != \"display_data\") || (!Object.prototype.hasOwnProperty.call(output.data, EXEC_MIME_TYPE))) {\n",
       "      return\n",
       "    }\n",
       "\n",
       "    const toinsert = output_area.element.find(\".\" + CLASS_NAME.split(' ')[0]);\n",
       "\n",
       "    if (output.metadata[EXEC_MIME_TYPE][\"id\"] !== undefined) {\n",
       "      toinsert[toinsert.length - 1].firstChild.textContent = output.data[JS_MIME_TYPE];\n",
       "      // store reference to embed id on output_area\n",
       "      output_area._bokeh_element_id = output.metadata[EXEC_MIME_TYPE][\"id\"];\n",
       "    }\n",
       "    if (output.metadata[EXEC_MIME_TYPE][\"server_id\"] !== undefined) {\n",
       "      const bk_div = document.createElement(\"div\");\n",
       "      bk_div.innerHTML = output.data[HTML_MIME_TYPE];\n",
       "      const script_attrs = bk_div.children[0].attributes;\n",
       "      for (let i = 0; i < script_attrs.length; i++) {\n",
       "        toinsert[toinsert.length - 1].firstChild.setAttribute(script_attrs[i].name, script_attrs[i].value);\n",
       "        toinsert[toinsert.length - 1].firstChild.textContent = bk_div.children[0].textContent\n",
       "      }\n",
       "      // store reference to server id on output_area\n",
       "      output_area._bokeh_server_id = output.metadata[EXEC_MIME_TYPE][\"server_id\"];\n",
       "    }\n",
       "  }\n",
       "\n",
       "  function register_renderer(events, OutputArea) {\n",
       "\n",
       "    function append_mime(data, metadata, element) {\n",
       "      // create a DOM node to render to\n",
       "      const toinsert = this.create_output_subarea(\n",
       "        metadata,\n",
       "        CLASS_NAME,\n",
       "        EXEC_MIME_TYPE\n",
       "      );\n",
       "      this.keyboard_manager.register_events(toinsert);\n",
       "      // Render to node\n",
       "      const props = {data: data, metadata: metadata[EXEC_MIME_TYPE]};\n",
       "      render(props, toinsert[toinsert.length - 1]);\n",
       "      element.append(toinsert);\n",
       "      return toinsert\n",
       "    }\n",
       "\n",
       "    /* Handle when an output is cleared or removed */\n",
       "    events.on('clear_output.CodeCell', handleClearOutput);\n",
       "    events.on('delete.Cell', handleClearOutput);\n",
       "\n",
       "    /* Handle when a new output is added */\n",
       "    events.on('output_added.OutputArea', handleAddOutput);\n",
       "\n",
       "    /**\n",
       "     * Register the mime type and append_mime function with output_area\n",
       "     */\n",
       "    OutputArea.prototype.register_mime_type(EXEC_MIME_TYPE, append_mime, {\n",
       "      /* Is output safe? */\n",
       "      safe: true,\n",
       "      /* Index of renderer in `output_area.display_order` */\n",
       "      index: 0\n",
       "    });\n",
       "  }\n",
       "\n",
       "  // register the mime type if in Jupyter Notebook environment and previously unregistered\n",
       "  if (root.Jupyter !== undefined) {\n",
       "    const events = require('base/js/events');\n",
       "    const OutputArea = require('notebook/js/outputarea').OutputArea;\n",
       "\n",
       "    if (OutputArea.prototype.mime_types().indexOf(EXEC_MIME_TYPE) == -1) {\n",
       "      register_renderer(events, OutputArea);\n",
       "    }\n",
       "  }\n",
       "  if (typeof (root._bokeh_timeout) === \"undefined\" || force === true) {\n",
       "    root._bokeh_timeout = Date.now() + 5000;\n",
       "    root._bokeh_failed_load = false;\n",
       "  }\n",
       "\n",
       "  const NB_LOAD_WARNING = {'data': {'text/html':\n",
       "     \"<div style='background-color: #fdd'>\\n\"+\n",
       "     \"<p>\\n\"+\n",
       "     \"BokehJS does not appear to have successfully loaded. If loading BokehJS from CDN, this \\n\"+\n",
       "     \"may be due to a slow or bad network connection. Possible fixes:\\n\"+\n",
       "     \"</p>\\n\"+\n",
       "     \"<ul>\\n\"+\n",
       "     \"<li>re-rerun `output_notebook()` to attempt to load from CDN again, or</li>\\n\"+\n",
       "     \"<li>use INLINE resources instead, as so:</li>\\n\"+\n",
       "     \"</ul>\\n\"+\n",
       "     \"<code>\\n\"+\n",
       "     \"from bokeh.resources import INLINE\\n\"+\n",
       "     \"output_notebook(resources=INLINE)\\n\"+\n",
       "     \"</code>\\n\"+\n",
       "     \"</div>\"}};\n",
       "\n",
       "  function display_loaded() {\n",
       "    const el = document.getElementById(\"p1001\");\n",
       "    if (el != null) {\n",
       "      el.textContent = \"BokehJS is loading...\";\n",
       "    }\n",
       "    if (root.Bokeh !== undefined) {\n",
       "      if (el != null) {\n",
       "        el.textContent = \"BokehJS \" + root.Bokeh.version + \" successfully loaded.\";\n",
       "      }\n",
       "    } else if (Date.now() < root._bokeh_timeout) {\n",
       "      setTimeout(display_loaded, 100)\n",
       "    }\n",
       "  }\n",
       "\n",
       "  function run_callbacks() {\n",
       "    try {\n",
       "      root._bokeh_onload_callbacks.forEach(function(callback) {\n",
       "        if (callback != null)\n",
       "          callback();\n",
       "      });\n",
       "    } finally {\n",
       "      delete root._bokeh_onload_callbacks\n",
       "    }\n",
       "    console.debug(\"Bokeh: all callbacks have finished\");\n",
       "  }\n",
       "\n",
       "  function load_libs(css_urls, js_urls, callback) {\n",
       "    if (css_urls == null) css_urls = [];\n",
       "    if (js_urls == null) js_urls = [];\n",
       "\n",
       "    root._bokeh_onload_callbacks.push(callback);\n",
       "    if (root._bokeh_is_loading > 0) {\n",
       "      console.debug(\"Bokeh: BokehJS is being loaded, scheduling callback at\", now());\n",
       "      return null;\n",
       "    }\n",
       "    if (js_urls == null || js_urls.length === 0) {\n",
       "      run_callbacks();\n",
       "      return null;\n",
       "    }\n",
       "    console.debug(\"Bokeh: BokehJS not loaded, scheduling load and callback at\", now());\n",
       "    root._bokeh_is_loading = css_urls.length + js_urls.length;\n",
       "\n",
       "    function on_load() {\n",
       "      root._bokeh_is_loading--;\n",
       "      if (root._bokeh_is_loading === 0) {\n",
       "        console.debug(\"Bokeh: all BokehJS libraries/stylesheets loaded\");\n",
       "        run_callbacks()\n",
       "      }\n",
       "    }\n",
       "\n",
       "    function on_error(url) {\n",
       "      console.error(\"failed to load \" + url);\n",
       "    }\n",
       "\n",
       "    for (let i = 0; i < css_urls.length; i++) {\n",
       "      const url = css_urls[i];\n",
       "      const element = document.createElement(\"link\");\n",
       "      element.onload = on_load;\n",
       "      element.onerror = on_error.bind(null, url);\n",
       "      element.rel = \"stylesheet\";\n",
       "      element.type = \"text/css\";\n",
       "      element.href = url;\n",
       "      console.debug(\"Bokeh: injecting link tag for BokehJS stylesheet: \", url);\n",
       "      document.body.appendChild(element);\n",
       "    }\n",
       "\n",
       "    for (let i = 0; i < js_urls.length; i++) {\n",
       "      const url = js_urls[i];\n",
       "      const element = document.createElement('script');\n",
       "      element.onload = on_load;\n",
       "      element.onerror = on_error.bind(null, url);\n",
       "      element.async = false;\n",
       "      element.src = url;\n",
       "      console.debug(\"Bokeh: injecting script tag for BokehJS library: \", url);\n",
       "      document.head.appendChild(element);\n",
       "    }\n",
       "  };\n",
       "\n",
       "  function inject_raw_css(css) {\n",
       "    const element = document.createElement(\"style\");\n",
       "    element.appendChild(document.createTextNode(css));\n",
       "    document.body.appendChild(element);\n",
       "  }\n",
       "\n",
       "  const js_urls = [\"https://cdn.bokeh.org/bokeh/release/bokeh-3.0.1.min.js\", \"https://cdn.bokeh.org/bokeh/release/bokeh-gl-3.0.1.min.js\", \"https://cdn.bokeh.org/bokeh/release/bokeh-widgets-3.0.1.min.js\", \"https://cdn.bokeh.org/bokeh/release/bokeh-tables-3.0.1.min.js\", \"https://cdn.bokeh.org/bokeh/release/bokeh-mathjax-3.0.1.min.js\"];\n",
       "  const css_urls = [];\n",
       "\n",
       "  const inline_js = [    function(Bokeh) {\n",
       "      Bokeh.set_log_level(\"info\");\n",
       "    },\n",
       "function(Bokeh) {\n",
       "    }\n",
       "  ];\n",
       "\n",
       "  function run_inline_js() {\n",
       "    if (root.Bokeh !== undefined || force === true) {\n",
       "          for (let i = 0; i < inline_js.length; i++) {\n",
       "      inline_js[i].call(root, root.Bokeh);\n",
       "    }\n",
       "if (force === true) {\n",
       "        display_loaded();\n",
       "      }} else if (Date.now() < root._bokeh_timeout) {\n",
       "      setTimeout(run_inline_js, 100);\n",
       "    } else if (!root._bokeh_failed_load) {\n",
       "      console.log(\"Bokeh: BokehJS failed to load within specified timeout.\");\n",
       "      root._bokeh_failed_load = true;\n",
       "    } else if (force !== true) {\n",
       "      const cell = $(document.getElementById(\"p1001\")).parents('.cell').data().cell;\n",
       "      cell.output_area.append_execute_result(NB_LOAD_WARNING)\n",
       "    }\n",
       "  }\n",
       "\n",
       "  if (root._bokeh_is_loading === 0) {\n",
       "    console.debug(\"Bokeh: BokehJS loaded, going straight to plotting\");\n",
       "    run_inline_js();\n",
       "  } else {\n",
       "    load_libs(css_urls, js_urls, function() {\n",
       "      console.debug(\"Bokeh: BokehJS plotting callback run at\", now());\n",
       "      run_inline_js();\n",
       "    });\n",
       "  }\n",
       "}(window));"
      ],
      "application/vnd.bokehjs_load.v0+json": "(function(root) {\n  function now() {\n    return new Date();\n  }\n\n  const force = true;\n\n  if (typeof root._bokeh_onload_callbacks === \"undefined\" || force === true) {\n    root._bokeh_onload_callbacks = [];\n    root._bokeh_is_loading = undefined;\n  }\n\n\n  if (typeof (root._bokeh_timeout) === \"undefined\" || force === true) {\n    root._bokeh_timeout = Date.now() + 5000;\n    root._bokeh_failed_load = false;\n  }\n\n  const NB_LOAD_WARNING = {'data': {'text/html':\n     \"<div style='background-color: #fdd'>\\n\"+\n     \"<p>\\n\"+\n     \"BokehJS does not appear to have successfully loaded. If loading BokehJS from CDN, this \\n\"+\n     \"may be due to a slow or bad network connection. Possible fixes:\\n\"+\n     \"</p>\\n\"+\n     \"<ul>\\n\"+\n     \"<li>re-rerun `output_notebook()` to attempt to load from CDN again, or</li>\\n\"+\n     \"<li>use INLINE resources instead, as so:</li>\\n\"+\n     \"</ul>\\n\"+\n     \"<code>\\n\"+\n     \"from bokeh.resources import INLINE\\n\"+\n     \"output_notebook(resources=INLINE)\\n\"+\n     \"</code>\\n\"+\n     \"</div>\"}};\n\n  function display_loaded() {\n    const el = document.getElementById(\"p1001\");\n    if (el != null) {\n      el.textContent = \"BokehJS is loading...\";\n    }\n    if (root.Bokeh !== undefined) {\n      if (el != null) {\n        el.textContent = \"BokehJS \" + root.Bokeh.version + \" successfully loaded.\";\n      }\n    } else if (Date.now() < root._bokeh_timeout) {\n      setTimeout(display_loaded, 100)\n    }\n  }\n\n  function run_callbacks() {\n    try {\n      root._bokeh_onload_callbacks.forEach(function(callback) {\n        if (callback != null)\n          callback();\n      });\n    } finally {\n      delete root._bokeh_onload_callbacks\n    }\n    console.debug(\"Bokeh: all callbacks have finished\");\n  }\n\n  function load_libs(css_urls, js_urls, callback) {\n    if (css_urls == null) css_urls = [];\n    if (js_urls == null) js_urls = [];\n\n    root._bokeh_onload_callbacks.push(callback);\n    if (root._bokeh_is_loading > 0) {\n      console.debug(\"Bokeh: BokehJS is being loaded, scheduling callback at\", now());\n      return null;\n    }\n    if (js_urls == null || js_urls.length === 0) {\n      run_callbacks();\n      return null;\n    }\n    console.debug(\"Bokeh: BokehJS not loaded, scheduling load and callback at\", now());\n    root._bokeh_is_loading = css_urls.length + js_urls.length;\n\n    function on_load() {\n      root._bokeh_is_loading--;\n      if (root._bokeh_is_loading === 0) {\n        console.debug(\"Bokeh: all BokehJS libraries/stylesheets loaded\");\n        run_callbacks()\n      }\n    }\n\n    function on_error(url) {\n      console.error(\"failed to load \" + url);\n    }\n\n    for (let i = 0; i < css_urls.length; i++) {\n      const url = css_urls[i];\n      const element = document.createElement(\"link\");\n      element.onload = on_load;\n      element.onerror = on_error.bind(null, url);\n      element.rel = \"stylesheet\";\n      element.type = \"text/css\";\n      element.href = url;\n      console.debug(\"Bokeh: injecting link tag for BokehJS stylesheet: \", url);\n      document.body.appendChild(element);\n    }\n\n    for (let i = 0; i < js_urls.length; i++) {\n      const url = js_urls[i];\n      const element = document.createElement('script');\n      element.onload = on_load;\n      element.onerror = on_error.bind(null, url);\n      element.async = false;\n      element.src = url;\n      console.debug(\"Bokeh: injecting script tag for BokehJS library: \", url);\n      document.head.appendChild(element);\n    }\n  };\n\n  function inject_raw_css(css) {\n    const element = document.createElement(\"style\");\n    element.appendChild(document.createTextNode(css));\n    document.body.appendChild(element);\n  }\n\n  const js_urls = [\"https://cdn.bokeh.org/bokeh/release/bokeh-3.0.1.min.js\", \"https://cdn.bokeh.org/bokeh/release/bokeh-gl-3.0.1.min.js\", \"https://cdn.bokeh.org/bokeh/release/bokeh-widgets-3.0.1.min.js\", \"https://cdn.bokeh.org/bokeh/release/bokeh-tables-3.0.1.min.js\", \"https://cdn.bokeh.org/bokeh/release/bokeh-mathjax-3.0.1.min.js\"];\n  const css_urls = [];\n\n  const inline_js = [    function(Bokeh) {\n      Bokeh.set_log_level(\"info\");\n    },\nfunction(Bokeh) {\n    }\n  ];\n\n  function run_inline_js() {\n    if (root.Bokeh !== undefined || force === true) {\n          for (let i = 0; i < inline_js.length; i++) {\n      inline_js[i].call(root, root.Bokeh);\n    }\nif (force === true) {\n        display_loaded();\n      }} else if (Date.now() < root._bokeh_timeout) {\n      setTimeout(run_inline_js, 100);\n    } else if (!root._bokeh_failed_load) {\n      console.log(\"Bokeh: BokehJS failed to load within specified timeout.\");\n      root._bokeh_failed_load = true;\n    } else if (force !== true) {\n      const cell = $(document.getElementById(\"p1001\")).parents('.cell').data().cell;\n      cell.output_area.append_execute_result(NB_LOAD_WARNING)\n    }\n  }\n\n  if (root._bokeh_is_loading === 0) {\n    console.debug(\"Bokeh: BokehJS loaded, going straight to plotting\");\n    run_inline_js();\n  } else {\n    load_libs(css_urls, js_urls, function() {\n      console.debug(\"Bokeh: BokehJS plotting callback run at\", now());\n      run_inline_js();\n    });\n  }\n}(window));"
     },
     "metadata": {},
     "output_type": "display_data"
    }
   ],
   "source": [
    "from bokeh.io import output_notebook\n",
    "import bokeh.plotting as plt\n",
    "from bokeh.models.ranges import DataRange1d\n",
    "from bokeh.models.tools import CrosshairTool, ExamineTool\n",
    "import numpy as np\n",
    "from bokeh.io import export_svg\n",
    "\n",
    "output_notebook()"
   ]
  },
  {
   "cell_type": "markdown",
   "id": "9887ac85",
   "metadata": {},
   "source": [
    "## Load morphology and other components"
   ]
  },
  {
   "cell_type": "code",
   "execution_count": 3,
   "id": "ad755721",
   "metadata": {},
   "outputs": [
    {
     "name": "stdout",
     "output_type": "stream",
     "text": [
      "\t0 \n",
      "\t0 \n",
      "\t0 \n",
      "\t0 \n",
      "\t0 \n",
      "\t1 \n"
     ]
    },
    {
     "data": {
      "text/plain": [
       "1"
      ]
     },
     "execution_count": 3,
     "metadata": {},
     "output_type": "execute_result"
    }
   ],
   "source": [
    "# load channels\n",
    "h('''{load_file(\"../chan-DmNaT-ODowd.hoc\")\n",
    "      load_file(\"../chan-DmNaP-DmNav10.hoc\")\n",
    "      load_file(\"../chan-DmKdr-Marley.hoc\")\n",
    "      load_file(\"../chan-DmKA-Marley.hoc\")\n",
    "     }''')\n",
    "\n",
    "# load morphology\n",
    "h('{load_file(\"../neuron-morph-ext-axon-2pieces-chans-ext-axon-70um.hoc\")}')\n",
    "\n",
    "# enable or disable voltage clamp\n",
    "h('load_file(\"../vclamp_soma_-60mV.ses\")')"
   ]
  },
  {
   "cell_type": "markdown",
   "id": "3f02f684",
   "metadata": {},
   "source": [
    "## Initialization"
   ]
  },
  {
   "cell_type": "code",
   "execution_count": 4,
   "id": "b6001bda",
   "metadata": {},
   "outputs": [
    {
     "name": "stdout",
     "output_type": "stream",
     "text": [
      "\t1 \n",
      "Secname\tL (um)\tDiam (um)\tArea [um^2]\tRi [MO]\t\tCm [pF]\tg_pas [nS]\n",
      "axon:\t37.61\t1.14\t134.11\t35.12\t1.34\t0.00\n",
      "soma:\t6.98\t5.50\t120.56\t0.28\t1.21\t0.00\n",
      "bottom dend:\t996.91\t0.78\t2430.62\t1991.49\t24.31\t0.02\n",
      "botdend - axon:\t959.10\t0.76\t2292.50\t1993.51\t22.92\t0.02\n",
      "topdend:\t366.00\t0.73\t837.85\t829.37\t8.38\t0.01\n",
      "ext. axon:\t570.00\t0.71\t1275.49\t1351.81\t12.75\t1.53\n",
      "\t1 \n",
      "Warning: state file does not exist.\n"
     ]
    }
   ],
   "source": [
    "# load common funcs\n",
    "h('load_file(\"../fitfuncs.hoc\")')\n",
    "\n",
    "#h('print_elec_cell()') #fix this \n",
    "\n",
    "# calc morph stats\n",
    "h('load_file(\"../stats.hoc\")')\n",
    "\n",
    "file_name = \"ext-axon-70um-sim-synapses\"\n",
    "\n",
    "# save state in this file\n",
    "h.state_file_name = \"state-neuron-act+elec+ext-axon-2piece-chans-\" + file_name + \".bin\"\n",
    "\n",
    "# load state first because it overrides parameters\n",
    "state_w_syn = \"state-neuron-act+elec+ext-axon-2piece-chans-\" + file_name + \"-synapse-saved.bin\"\n",
    "h.restoreStateFromFile(state_w_syn)\n",
    "\n",
    "# small adjustments\n",
    "\n",
    "# increase VC duration\n",
    "h.VClamp[0].dur[0] = 1000"
   ]
  },
  {
   "cell_type": "code",
   "execution_count": 5,
   "id": "edb18fab",
   "metadata": {},
   "outputs": [
    {
     "name": "stdout",
     "output_type": "stream",
     "text": [
      "Creating synapse on dendrite[685]\n",
      "Creating synapse on dendrite[524]\n",
      "Creating synapse on dendrite[520]\n",
      "Creating synapse on dendrite[626]\n",
      "Creating synapse on dendrite[205]\n",
      "Creating synapse on dendrite[357]\n",
      "Creating synapse on dendrite[464]\n",
      "Creating synapse on dendrite[588]\n",
      "Creating synapse on dendrite[513]\n",
      "Creating synapse on dendrite[48]\n"
     ]
    }
   ],
   "source": [
    "# Dictionary for netcon objects indexed by section number that hold the synapse and netstim objects\n",
    "syns = {}\n",
    "\n",
    "class Synapse():\n",
    "    \n",
    "    def __init__(self, name, sec, syn, ns, nc):\n",
    "        self.name = name\n",
    "        self.sec = sec\n",
    "        self.syn = syn\n",
    "        self.ns = ns\n",
    "        self.nc = nc\n",
    "        \n",
    "    def set_stim(self, ps, weight = .00018, tau = 5, interval = 10, magepsc = 20, syne = 0, number = 1, start = 10):\n",
    "        \"\"\"Set parameters of specified synapse\"\"\"\n",
    "        nc = self.nc\n",
    "        syn = self.syn\n",
    "        ns = self.ns\n",
    "        print(f\"Setting: weight={weight}, tau={tau}, interval={interval}, magepsc={magepsc}, syne={syne}, number={number}, start={start}\")\n",
    "        syn.tau = tau\n",
    "        syn.e = syne\n",
    "        ns.interval = interval\n",
    "        ns.number = number\n",
    "        ns.start = start\n",
    "        ns.noise = 0\n",
    "        nc.weight[0] = weight * magepsc\n",
    "        ps.color(2, self.sec(0.5))\n",
    "        \n",
    "    def __str__(self):\n",
    "        return print(f\"Synapse {self.name}: weight*magepsc={self.nc.weight[0]}, tau={self.syn.tau}, interval={self.ns.interval}, syne={self.syn.e}, number={self.ns.number}, start={self.ns.start}\")\n",
    "\n",
    "def create_syns(*secs):\n",
    "    \"\"\"Factory method to create synapse, NetStim, and NetCon objects\"\"\"\n",
    "    for sec in secs:\n",
    "        print(f\"Creating synapse on {sec}\")\n",
    "        syn = h.ExpSyn(sec(0.5))\n",
    "        ns = h.NetStim(sec(0.5))\n",
    "        nc = h.NetCon(ns, syn)\n",
    "        nc.delay = 0\n",
    "        syn_obj = Synapse(str(sec), sec, syn, ns, nc)\n",
    "        syns[str(sec)] = syn_obj\n",
    "\n",
    "'''\n",
    " * synapses:\n",
    " * top dend: 685, 524, 520, 626\n",
    " * bot dend: 205, 357, 464, 588, 513, 48\n",
    "'''\n",
    "\n",
    "create_syns(h.dendrite[685], h.dendrite[524], h.dendrite[520], h.dendrite[626], h.dendrite[205], h.dendrite[357], \n",
    "            h.dendrite[464], h.dendrite[588], h.dendrite[513], h.dendrite[48])\n",
    "#set_syn_pars()                  # use defaults"
   ]
  },
  {
   "cell_type": "markdown",
   "id": "24df88f2",
   "metadata": {},
   "source": [
    "# Experiments"
   ]
  },
  {
   "cell_type": "markdown",
   "id": "519c24e6",
   "metadata": {},
   "source": [
    "## create shape plot"
   ]
  },
  {
   "cell_type": "code",
   "execution_count": 6,
   "id": "327164a5",
   "metadata": {},
   "outputs": [
    {
     "data": {
      "text/plain": [
       "1.0"
      ]
     },
     "execution_count": 6,
     "metadata": {},
     "output_type": "execute_result"
    }
   ],
   "source": [
    "ps = h.PlotShape(0) # don't show a default view\n",
    "ps.show(0)         # show diameters\n",
    "ps.view(30,10,55,87, 300, 100, 500, 700)\n",
    "h.load_file('stdrun.hoc')"
   ]
  },
  {
   "cell_type": "code",
   "execution_count": 7,
   "id": "3c4160b1",
   "metadata": {},
   "outputs": [],
   "source": [
    "vc_current = h.Vector().record(h.VClamp[0]._ref_i)  # Voltage clamp current vector\n",
    "v_soma = h.Vector().record(h.soma[0](0.5)._ref_v)  # Membrane potential vector\n",
    "t = h.Vector().record(h._ref_t)  # Time stamp vector"
   ]
  },
  {
   "cell_type": "markdown",
   "id": "e480a577",
   "metadata": {},
   "source": [
    "## Run a short simulation and save after steady state is reached"
   ]
  },
  {
   "cell_type": "code",
   "execution_count": 8,
   "id": "122b00f7",
   "metadata": {},
   "outputs": [
    {
     "name": "stdout",
     "output_type": "stream",
     "text": [
      "Saved state to file.\n",
      "State saved to: state-neuron-act+elec+ext-axon-2piece-chans-ext-axon-70um-sim-synapses.bin\n"
     ]
    }
   ],
   "source": [
    "# warning! if state changes (new synapses, etc) restoring saved state file will cause a crash!\n",
    "h.finitialize(-60 * mV)\n",
    "h.continuerun(100 * ms)\n",
    "# rewind and save\n",
    "h.finitialize()\n",
    "h.saveState()\n",
    "print(\"State saved to: \" + h.state_file_name)"
   ]
  },
  {
   "cell_type": "markdown",
   "id": "0e9e2974",
   "metadata": {},
   "source": [
    "## stimulate one synapse with varying magnitudes"
   ]
  },
  {
   "cell_type": "code",
   "execution_count": 9,
   "id": "1bb5a230",
   "metadata": {},
   "outputs": [],
   "source": [
    "syn = syns['dendrite[685]']"
   ]
  },
  {
   "cell_type": "code",
   "execution_count": 18,
   "id": "6e596304",
   "metadata": {
    "scrolled": true
   },
   "outputs": [
    {
     "name": "stdout",
     "output_type": "stream",
     "text": [
      "Reading state from file.\n",
      "Setting: weight=1e-06, tau=5, interval=0, magepsc=20, syne=0, number=1, start=10\n"
     ]
    },
    {
     "data": {
      "text/plain": [
       "0.0"
      ]
     },
     "execution_count": 18,
     "metadata": {},
     "output_type": "execute_result"
    }
   ],
   "source": [
    "h.restoreState()\n",
    "syn.set_stim(ps = ps, weight = .000001, tau=5, interval = 0, number = 1)\n",
    "h.finitialize()\n",
    "h.continuerun(60 * ms)"
   ]
  },
  {
   "cell_type": "code",
   "execution_count": 19,
   "id": "bf2feb8d",
   "metadata": {
    "scrolled": true
   },
   "outputs": [
    {
     "data": {
      "text/html": [
       "\n",
       "  <div id=\"57bed1d8-4dbb-43c6-9f5e-77ff92fea921\" data-root-id=\"p1872\" style=\"display: contents;\"></div>\n"
      ]
     },
     "metadata": {},
     "output_type": "display_data"
    },
    {
     "data": {
      "application/javascript": [
       "(function(root) {\n",
       "  function embed_document(root) {\n",
       "  const docs_json = {\"02e2af51-f1f5-44ed-9c91-d07512456b76\":{\"version\":\"3.0.1\",\"title\":\"Bokeh Application\",\"defs\":[],\"roots\":[{\"type\":\"object\",\"name\":\"Figure\",\"id\":\"p1872\",\"attributes\":{\"x_range\":{\"type\":\"object\",\"name\":\"DataRange1d\",\"id\":\"p1927\",\"attributes\":{\"start\":9,\"end\":50}},\"y_range\":{\"type\":\"object\",\"name\":\"DataRange1d\",\"id\":\"p1928\",\"attributes\":{\"start\":-0.01,\"end\":0}},\"x_scale\":{\"type\":\"object\",\"name\":\"LinearScale\",\"id\":\"p1885\"},\"y_scale\":{\"type\":\"object\",\"name\":\"LinearScale\",\"id\":\"p1887\"},\"title\":{\"type\":\"object\",\"name\":\"Title\",\"id\":\"p1876\"},\"renderers\":[{\"type\":\"object\",\"name\":\"GlyphRenderer\",\"id\":\"p1924\",\"attributes\":{\"data_source\":{\"type\":\"object\",\"name\":\"ColumnDataSource\",\"id\":\"p1918\",\"attributes\":{\"selected\":{\"type\":\"object\",\"name\":\"Selection\",\"id\":\"p1920\",\"attributes\":{\"indices\":[],\"line_indices\":[]}},\"selection_policy\":{\"type\":\"object\",\"name\":\"UnionRenderers\",\"id\":\"p1919\"},\"data\":{\"type\":\"map\",\"entries\":[[\"x\",{\"type\":\"ndarray\",\"array\":{\"type\":\"bytes\",\"data\":\"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\"},\"shape\":[2401],\"dtype\":\"float64\",\"order\":\"little\"}],[\"y\",{\"type\":\"ndarray\",\"array\":{\"type\":\"bytes\",\"data\":\"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\"},\"shape\":[2401],\"dtype\":\"float64\",\"order\":\"little\"}]]}}},\"view\":{\"type\":\"object\",\"name\":\"CDSView\",\"id\":\"p1925\",\"attributes\":{\"filter\":{\"type\":\"object\",\"name\":\"AllIndices\",\"id\":\"p1926\"}}},\"glyph\":{\"type\":\"object\",\"name\":\"Line\",\"id\":\"p1921\",\"attributes\":{\"x\":{\"type\":\"field\",\"field\":\"x\"},\"y\":{\"type\":\"field\",\"field\":\"y\"},\"line_color\":\"#1f77b4\",\"line_width\":2}},\"nonselection_glyph\":{\"type\":\"object\",\"name\":\"Line\",\"id\":\"p1922\",\"attributes\":{\"x\":{\"type\":\"field\",\"field\":\"x\"},\"y\":{\"type\":\"field\",\"field\":\"y\"},\"line_color\":\"#1f77b4\",\"line_alpha\":0.1,\"line_width\":2}},\"muted_glyph\":{\"type\":\"object\",\"name\":\"Line\",\"id\":\"p1923\",\"attributes\":{\"x\":{\"type\":\"field\",\"field\":\"x\"},\"y\":{\"type\":\"field\",\"field\":\"y\"},\"line_color\":\"#1f77b4\",\"line_alpha\":0.2,\"line_width\":2}}}}],\"toolbar\":{\"type\":\"object\",\"name\":\"Toolbar\",\"id\":\"p1879\",\"attributes\":{\"tools\":[{\"type\":\"object\",\"name\":\"PanTool\",\"id\":\"p1903\"},{\"type\":\"object\",\"name\":\"WheelZoomTool\",\"id\":\"p1904\"},{\"type\":\"object\",\"name\":\"BoxZoomTool\",\"id\":\"p1905\",\"attributes\":{\"overlay\":{\"type\":\"object\",\"name\":\"BoxAnnotation\",\"id\":\"p1906\",\"attributes\":{\"syncable\":false,\"level\":\"overlay\",\"visible\":false,\"left_units\":\"canvas\",\"right_units\":\"canvas\",\"bottom_units\":\"canvas\",\"top_units\":\"canvas\",\"line_color\":\"black\",\"line_alpha\":1.0,\"line_width\":2,\"line_dash\":[4,4],\"fill_color\":\"lightgrey\",\"fill_alpha\":0.5}}}},{\"type\":\"object\",\"name\":\"SaveTool\",\"id\":\"p1907\"},{\"type\":\"object\",\"name\":\"ResetTool\",\"id\":\"p1908\"},{\"type\":\"object\",\"name\":\"HelpTool\",\"id\":\"p1909\"}]}},\"left\":[{\"type\":\"object\",\"name\":\"LinearAxis\",\"id\":\"p1896\",\"attributes\":{\"ticker\":{\"type\":\"object\",\"name\":\"BasicTicker\",\"id\":\"p1898\",\"attributes\":{\"mantissas\":[1,2,5]}},\"formatter\":{\"type\":\"object\",\"name\":\"BasicTickFormatter\",\"id\":\"p1897\"},\"axis_label\":\"VC current (nA)\",\"major_label_policy\":{\"type\":\"object\",\"name\":\"AllLabels\",\"id\":\"p1899\"}}}],\"below\":[{\"type\":\"object\",\"name\":\"LinearAxis\",\"id\":\"p1889\",\"attributes\":{\"ticker\":{\"type\":\"object\",\"name\":\"BasicTicker\",\"id\":\"p1891\",\"attributes\":{\"mantissas\":[1,2,5]}},\"formatter\":{\"type\":\"object\",\"name\":\"BasicTickFormatter\",\"id\":\"p1890\"},\"axis_label\":\"t (ms)\",\"major_label_policy\":{\"type\":\"object\",\"name\":\"AllLabels\",\"id\":\"p1892\"}}}],\"center\":[{\"type\":\"object\",\"name\":\"Grid\",\"id\":\"p1895\",\"attributes\":{\"axis\":{\"id\":\"p1889\"}}},{\"type\":\"object\",\"name\":\"Grid\",\"id\":\"p1902\",\"attributes\":{\"dimension\":1,\"axis\":{\"id\":\"p1896\"}}}]}}]}};\n",
       "  const render_items = [{\"docid\":\"02e2af51-f1f5-44ed-9c91-d07512456b76\",\"roots\":{\"p1872\":\"57bed1d8-4dbb-43c6-9f5e-77ff92fea921\"},\"root_ids\":[\"p1872\"]}];\n",
       "  root.Bokeh.embed.embed_items_notebook(docs_json, render_items);\n",
       "  }\n",
       "  if (root.Bokeh !== undefined) {\n",
       "    embed_document(root);\n",
       "  } else {\n",
       "    let attempts = 0;\n",
       "    const timer = setInterval(function(root) {\n",
       "      if (root.Bokeh !== undefined) {\n",
       "        clearInterval(timer);\n",
       "        embed_document(root);\n",
       "      } else {\n",
       "        attempts++;\n",
       "        if (attempts > 100) {\n",
       "          clearInterval(timer);\n",
       "          console.log(\"Bokeh: ERROR: Unable to run BokehJS code because BokehJS library is missing\");\n",
       "        }\n",
       "      }\n",
       "    }, 10, root)\n",
       "  }\n",
       "})(window);"
      ],
      "application/vnd.bokehjs_exec.v0+json": ""
     },
     "metadata": {
      "application/vnd.bokehjs_exec.v0+json": {
       "id": "p1872"
      }
     },
     "output_type": "display_data"
    }
   ],
   "source": [
    "f = plt.figure(x_axis_label=\"t (ms)\", y_axis_label=\"VC current (nA)\")\n",
    "f.line(np.array(t), np.array(vc_current), line_width=2)\n",
    "f.x_range = DataRange1d(start = 9, end = 50)\n",
    "f.y_range = DataRange1d(start = -0.01, end = 0)\n",
    "plt.show(f)"
   ]
  },
  {
   "cell_type": "code",
   "execution_count": null,
   "id": "ca57df27",
   "metadata": {},
   "outputs": [],
   "source": [
    "# save as SVG\n",
    "f.output_backend = \"svg\"\n",
    "export_svg(f, filename=\"single-input-dendrite-685.svg\")"
   ]
  },
  {
   "cell_type": "markdown",
   "id": "d4539fb0",
   "metadata": {},
   "source": [
    "## Second synapse"
   ]
  },
  {
   "cell_type": "code",
   "execution_count": null,
   "id": "505b4db9",
   "metadata": {
    "scrolled": false
   },
   "outputs": [],
   "source": [
    "syn2 = syns['dendrite[588]']"
   ]
  },
  {
   "cell_type": "code",
   "execution_count": null,
   "id": "f8a58de1",
   "metadata": {
    "scrolled": true
   },
   "outputs": [],
   "source": [
    "#syn.set_stim(ps = ps, weight = 0, tau=5, interval = 0, number = 1)\n",
    "h.restoreState()\n",
    "#syn.set_stim(ps = ps, weight = .0018, tau=5, interval = 0, number = 1)\n",
    "syn2.set_stim(ps = ps, weight = .00018, tau=5, interval = 0, number = 1)\n",
    "h.finitialize()\n",
    "h.continuerun(60 * ms)"
   ]
  },
  {
   "cell_type": "code",
   "execution_count": null,
   "id": "242d65ff",
   "metadata": {},
   "outputs": [],
   "source": [
    "f = plt.figure(x_axis_label=\"t (ms)\", y_axis_label=\"VC current (nA)\")\n",
    "f.add_tools(CrosshairTool())\n",
    "f.line(np.array(t), np.array(vc_current), line_width=2)\n",
    "f.x_range = DataRange1d(start = 9, end = 50)\n",
    "f.y_range = DataRange1d(start = -0.10, end = 0)\n",
    "plt.show(f)"
   ]
  },
  {
   "cell_type": "markdown",
   "id": "275b50fa",
   "metadata": {},
   "source": [
    "## To Do\n",
    "- Calculate peak amplitude, rise and fall times to compare to recordings\n",
    "- functionalize simulations and run sweeps of amplitude and locations"
   ]
  },
  {
   "cell_type": "code",
   "execution_count": null,
   "id": "c744e432",
   "metadata": {},
   "outputs": [],
   "source": [
    "syn2"
   ]
  },
  {
   "cell_type": "code",
   "execution_count": null,
   "id": "affed950",
   "metadata": {},
   "outputs": [],
   "source": []
  }
 ],
 "metadata": {
  "kernelspec": {
   "display_name": "Python 3 (ipykernel)",
   "language": "python",
   "name": "python3"
  },
  "language_info": {
   "codemirror_mode": {
    "name": "ipython",
    "version": 3
   },
   "file_extension": ".py",
   "mimetype": "text/x-python",
   "name": "python",
   "nbconvert_exporter": "python",
   "pygments_lexer": "ipython3",
   "version": "3.9.7"
  }
 },
 "nbformat": 4,
 "nbformat_minor": 5
}
